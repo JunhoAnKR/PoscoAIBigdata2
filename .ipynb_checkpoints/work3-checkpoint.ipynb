{
 "cells": [
  {
   "cell_type": "markdown",
   "metadata": {},
   "source": [
    "## Week 4. python 을 이용한 데이터 정제 연습 ##"
   ]
  },
  {
   "cell_type": "markdown",
   "metadata": {},
   "source": [
    "### 0. Package import ###"
   ]
  },
  {
   "cell_type": "code",
   "execution_count": 1,
   "metadata": {},
   "outputs": [],
   "source": [
    "import pandas as pd\n",
    "import numpy as np\n",
    "from sklearn.preprocessing import scale, robust_scale, minmax_scale"
   ]
  },
  {
   "cell_type": "markdown",
   "metadata": {},
   "source": [
    "### 1. Data import ###"
   ]
  },
  {
   "cell_type": "code",
   "execution_count": 2,
   "metadata": {},
   "outputs": [
    {
     "data": {
      "text/html": [
       "<div>\n",
       "<style scoped>\n",
       "    .dataframe tbody tr th:only-of-type {\n",
       "        vertical-align: middle;\n",
       "    }\n",
       "\n",
       "    .dataframe tbody tr th {\n",
       "        vertical-align: top;\n",
       "    }\n",
       "\n",
       "    .dataframe thead th {\n",
       "        text-align: right;\n",
       "    }\n",
       "</style>\n",
       "<table border=\"1\" class=\"dataframe\">\n",
       "  <thead>\n",
       "    <tr style=\"text-align: right;\">\n",
       "      <th></th>\n",
       "      <th>NAME</th>\n",
       "      <th>GENDER</th>\n",
       "      <th>AGE</th>\n",
       "      <th>AGEGROUP</th>\n",
       "      <th>WEIGHT</th>\n",
       "      <th>OXY</th>\n",
       "      <th>RUNTIME</th>\n",
       "      <th>RUNPULSE</th>\n",
       "      <th>RSTPULSE</th>\n",
       "      <th>MAXPULSE</th>\n",
       "    </tr>\n",
       "  </thead>\n",
       "  <tbody>\n",
       "    <tr>\n",
       "      <th>0</th>\n",
       "      <td>Donna</td>\n",
       "      <td>여성</td>\n",
       "      <td>42</td>\n",
       "      <td>40대</td>\n",
       "      <td>68.15</td>\n",
       "      <td>59.571</td>\n",
       "      <td>8.17</td>\n",
       "      <td>166</td>\n",
       "      <td>40</td>\n",
       "      <td>172</td>\n",
       "    </tr>\n",
       "    <tr>\n",
       "      <th>1</th>\n",
       "      <td>Gracie</td>\n",
       "      <td>NaN</td>\n",
       "      <td>38</td>\n",
       "      <td>30대</td>\n",
       "      <td>81.87</td>\n",
       "      <td>60.055</td>\n",
       "      <td>8.63</td>\n",
       "      <td>170</td>\n",
       "      <td>48</td>\n",
       "      <td>186</td>\n",
       "    </tr>\n",
       "    <tr>\n",
       "      <th>2</th>\n",
       "      <td>Luanne</td>\n",
       "      <td>여성</td>\n",
       "      <td>43</td>\n",
       "      <td>40대</td>\n",
       "      <td>85.84</td>\n",
       "      <td>54.297</td>\n",
       "      <td>8.65</td>\n",
       "      <td>156</td>\n",
       "      <td>45</td>\n",
       "      <td>168</td>\n",
       "    </tr>\n",
       "    <tr>\n",
       "      <th>3</th>\n",
       "      <td>Mimi</td>\n",
       "      <td>여성</td>\n",
       "      <td>50</td>\n",
       "      <td>50대</td>\n",
       "      <td>70.87</td>\n",
       "      <td>54.625</td>\n",
       "      <td>8.92</td>\n",
       "      <td>146</td>\n",
       "      <td>48</td>\n",
       "      <td>155</td>\n",
       "    </tr>\n",
       "    <tr>\n",
       "      <th>4</th>\n",
       "      <td>Chris</td>\n",
       "      <td>남성</td>\n",
       "      <td>49</td>\n",
       "      <td>40대</td>\n",
       "      <td>NaN</td>\n",
       "      <td>49.156</td>\n",
       "      <td>8.95</td>\n",
       "      <td>180</td>\n",
       "      <td>44</td>\n",
       "      <td>185</td>\n",
       "    </tr>\n",
       "  </tbody>\n",
       "</table>\n",
       "</div>"
      ],
      "text/plain": [
       "     NAME GENDER  AGE AGEGROUP  WEIGHT     OXY  RUNTIME  RUNPULSE  RSTPULSE  \\\n",
       "0   Donna     여성   42      40대   68.15  59.571     8.17       166        40   \n",
       "1  Gracie    NaN   38      30대   81.87  60.055     8.63       170        48   \n",
       "2  Luanne     여성   43      40대   85.84  54.297     8.65       156        45   \n",
       "3    Mimi     여성   50      50대   70.87  54.625     8.92       146        48   \n",
       "4   Chris     남성   49      40대     NaN  49.156     8.95       180        44   \n",
       "\n",
       "   MAXPULSE  \n",
       "0       172  \n",
       "1       186  \n",
       "2       168  \n",
       "3       155  \n",
       "4       185  "
      ]
     },
     "execution_count": 2,
     "metadata": {},
     "output_type": "execute_result"
    }
   ],
   "source": [
    "ds_fitness = pd.read_csv('실습파일/FITNESS.csv', engine = 'python', encoding ='EUC-KR')\n",
    "ds_fitness.head()"
   ]
  },
  {
   "cell_type": "markdown",
   "metadata": {},
   "source": [
    "### 2. Find missing value ###"
   ]
  },
  {
   "cell_type": "code",
   "execution_count": 3,
   "metadata": {},
   "outputs": [
    {
     "data": {
      "text/html": [
       "<div>\n",
       "<style scoped>\n",
       "    .dataframe tbody tr th:only-of-type {\n",
       "        vertical-align: middle;\n",
       "    }\n",
       "\n",
       "    .dataframe tbody tr th {\n",
       "        vertical-align: top;\n",
       "    }\n",
       "\n",
       "    .dataframe thead th {\n",
       "        text-align: right;\n",
       "    }\n",
       "</style>\n",
       "<table border=\"1\" class=\"dataframe\">\n",
       "  <thead>\n",
       "    <tr style=\"text-align: right;\">\n",
       "      <th></th>\n",
       "      <th>NAME</th>\n",
       "      <th>GENDER</th>\n",
       "      <th>AGE</th>\n",
       "      <th>AGEGROUP</th>\n",
       "      <th>WEIGHT</th>\n",
       "      <th>OXY</th>\n",
       "      <th>RUNTIME</th>\n",
       "      <th>RUNPULSE</th>\n",
       "      <th>RSTPULSE</th>\n",
       "      <th>MAXPULSE</th>\n",
       "    </tr>\n",
       "  </thead>\n",
       "  <tbody>\n",
       "    <tr>\n",
       "      <th>0</th>\n",
       "      <td>False</td>\n",
       "      <td>False</td>\n",
       "      <td>False</td>\n",
       "      <td>False</td>\n",
       "      <td>False</td>\n",
       "      <td>False</td>\n",
       "      <td>False</td>\n",
       "      <td>False</td>\n",
       "      <td>False</td>\n",
       "      <td>False</td>\n",
       "    </tr>\n",
       "    <tr>\n",
       "      <th>1</th>\n",
       "      <td>False</td>\n",
       "      <td>True</td>\n",
       "      <td>False</td>\n",
       "      <td>False</td>\n",
       "      <td>False</td>\n",
       "      <td>False</td>\n",
       "      <td>False</td>\n",
       "      <td>False</td>\n",
       "      <td>False</td>\n",
       "      <td>False</td>\n",
       "    </tr>\n",
       "    <tr>\n",
       "      <th>2</th>\n",
       "      <td>False</td>\n",
       "      <td>False</td>\n",
       "      <td>False</td>\n",
       "      <td>False</td>\n",
       "      <td>False</td>\n",
       "      <td>False</td>\n",
       "      <td>False</td>\n",
       "      <td>False</td>\n",
       "      <td>False</td>\n",
       "      <td>False</td>\n",
       "    </tr>\n",
       "    <tr>\n",
       "      <th>3</th>\n",
       "      <td>False</td>\n",
       "      <td>False</td>\n",
       "      <td>False</td>\n",
       "      <td>False</td>\n",
       "      <td>False</td>\n",
       "      <td>False</td>\n",
       "      <td>False</td>\n",
       "      <td>False</td>\n",
       "      <td>False</td>\n",
       "      <td>False</td>\n",
       "    </tr>\n",
       "    <tr>\n",
       "      <th>4</th>\n",
       "      <td>False</td>\n",
       "      <td>False</td>\n",
       "      <td>False</td>\n",
       "      <td>False</td>\n",
       "      <td>True</td>\n",
       "      <td>False</td>\n",
       "      <td>False</td>\n",
       "      <td>False</td>\n",
       "      <td>False</td>\n",
       "      <td>False</td>\n",
       "    </tr>\n",
       "    <tr>\n",
       "      <th>5</th>\n",
       "      <td>False</td>\n",
       "      <td>False</td>\n",
       "      <td>False</td>\n",
       "      <td>False</td>\n",
       "      <td>False</td>\n",
       "      <td>False</td>\n",
       "      <td>False</td>\n",
       "      <td>False</td>\n",
       "      <td>False</td>\n",
       "      <td>False</td>\n",
       "    </tr>\n",
       "    <tr>\n",
       "      <th>6</th>\n",
       "      <td>False</td>\n",
       "      <td>False</td>\n",
       "      <td>False</td>\n",
       "      <td>False</td>\n",
       "      <td>False</td>\n",
       "      <td>False</td>\n",
       "      <td>False</td>\n",
       "      <td>False</td>\n",
       "      <td>False</td>\n",
       "      <td>False</td>\n",
       "    </tr>\n",
       "    <tr>\n",
       "      <th>7</th>\n",
       "      <td>False</td>\n",
       "      <td>False</td>\n",
       "      <td>False</td>\n",
       "      <td>False</td>\n",
       "      <td>False</td>\n",
       "      <td>False</td>\n",
       "      <td>False</td>\n",
       "      <td>False</td>\n",
       "      <td>False</td>\n",
       "      <td>False</td>\n",
       "    </tr>\n",
       "    <tr>\n",
       "      <th>8</th>\n",
       "      <td>False</td>\n",
       "      <td>False</td>\n",
       "      <td>False</td>\n",
       "      <td>False</td>\n",
       "      <td>False</td>\n",
       "      <td>False</td>\n",
       "      <td>False</td>\n",
       "      <td>False</td>\n",
       "      <td>False</td>\n",
       "      <td>False</td>\n",
       "    </tr>\n",
       "    <tr>\n",
       "      <th>9</th>\n",
       "      <td>False</td>\n",
       "      <td>False</td>\n",
       "      <td>False</td>\n",
       "      <td>False</td>\n",
       "      <td>False</td>\n",
       "      <td>False</td>\n",
       "      <td>False</td>\n",
       "      <td>False</td>\n",
       "      <td>False</td>\n",
       "      <td>False</td>\n",
       "    </tr>\n",
       "    <tr>\n",
       "      <th>10</th>\n",
       "      <td>False</td>\n",
       "      <td>False</td>\n",
       "      <td>False</td>\n",
       "      <td>False</td>\n",
       "      <td>False</td>\n",
       "      <td>False</td>\n",
       "      <td>False</td>\n",
       "      <td>False</td>\n",
       "      <td>False</td>\n",
       "      <td>False</td>\n",
       "    </tr>\n",
       "    <tr>\n",
       "      <th>11</th>\n",
       "      <td>False</td>\n",
       "      <td>False</td>\n",
       "      <td>False</td>\n",
       "      <td>False</td>\n",
       "      <td>False</td>\n",
       "      <td>False</td>\n",
       "      <td>False</td>\n",
       "      <td>False</td>\n",
       "      <td>False</td>\n",
       "      <td>False</td>\n",
       "    </tr>\n",
       "    <tr>\n",
       "      <th>12</th>\n",
       "      <td>False</td>\n",
       "      <td>False</td>\n",
       "      <td>False</td>\n",
       "      <td>False</td>\n",
       "      <td>False</td>\n",
       "      <td>False</td>\n",
       "      <td>False</td>\n",
       "      <td>False</td>\n",
       "      <td>False</td>\n",
       "      <td>False</td>\n",
       "    </tr>\n",
       "    <tr>\n",
       "      <th>13</th>\n",
       "      <td>False</td>\n",
       "      <td>False</td>\n",
       "      <td>False</td>\n",
       "      <td>False</td>\n",
       "      <td>False</td>\n",
       "      <td>False</td>\n",
       "      <td>False</td>\n",
       "      <td>False</td>\n",
       "      <td>False</td>\n",
       "      <td>False</td>\n",
       "    </tr>\n",
       "    <tr>\n",
       "      <th>14</th>\n",
       "      <td>False</td>\n",
       "      <td>False</td>\n",
       "      <td>False</td>\n",
       "      <td>False</td>\n",
       "      <td>False</td>\n",
       "      <td>False</td>\n",
       "      <td>False</td>\n",
       "      <td>False</td>\n",
       "      <td>False</td>\n",
       "      <td>False</td>\n",
       "    </tr>\n",
       "    <tr>\n",
       "      <th>15</th>\n",
       "      <td>False</td>\n",
       "      <td>False</td>\n",
       "      <td>False</td>\n",
       "      <td>False</td>\n",
       "      <td>False</td>\n",
       "      <td>False</td>\n",
       "      <td>False</td>\n",
       "      <td>False</td>\n",
       "      <td>False</td>\n",
       "      <td>False</td>\n",
       "    </tr>\n",
       "    <tr>\n",
       "      <th>16</th>\n",
       "      <td>False</td>\n",
       "      <td>False</td>\n",
       "      <td>False</td>\n",
       "      <td>False</td>\n",
       "      <td>False</td>\n",
       "      <td>False</td>\n",
       "      <td>False</td>\n",
       "      <td>False</td>\n",
       "      <td>False</td>\n",
       "      <td>False</td>\n",
       "    </tr>\n",
       "    <tr>\n",
       "      <th>17</th>\n",
       "      <td>False</td>\n",
       "      <td>False</td>\n",
       "      <td>False</td>\n",
       "      <td>False</td>\n",
       "      <td>False</td>\n",
       "      <td>False</td>\n",
       "      <td>False</td>\n",
       "      <td>False</td>\n",
       "      <td>False</td>\n",
       "      <td>False</td>\n",
       "    </tr>\n",
       "    <tr>\n",
       "      <th>18</th>\n",
       "      <td>False</td>\n",
       "      <td>False</td>\n",
       "      <td>False</td>\n",
       "      <td>False</td>\n",
       "      <td>True</td>\n",
       "      <td>False</td>\n",
       "      <td>False</td>\n",
       "      <td>False</td>\n",
       "      <td>False</td>\n",
       "      <td>False</td>\n",
       "    </tr>\n",
       "    <tr>\n",
       "      <th>19</th>\n",
       "      <td>False</td>\n",
       "      <td>False</td>\n",
       "      <td>False</td>\n",
       "      <td>False</td>\n",
       "      <td>False</td>\n",
       "      <td>False</td>\n",
       "      <td>False</td>\n",
       "      <td>False</td>\n",
       "      <td>False</td>\n",
       "      <td>False</td>\n",
       "    </tr>\n",
       "    <tr>\n",
       "      <th>20</th>\n",
       "      <td>False</td>\n",
       "      <td>False</td>\n",
       "      <td>False</td>\n",
       "      <td>False</td>\n",
       "      <td>False</td>\n",
       "      <td>False</td>\n",
       "      <td>False</td>\n",
       "      <td>False</td>\n",
       "      <td>False</td>\n",
       "      <td>False</td>\n",
       "    </tr>\n",
       "    <tr>\n",
       "      <th>21</th>\n",
       "      <td>False</td>\n",
       "      <td>False</td>\n",
       "      <td>False</td>\n",
       "      <td>False</td>\n",
       "      <td>False</td>\n",
       "      <td>False</td>\n",
       "      <td>False</td>\n",
       "      <td>False</td>\n",
       "      <td>False</td>\n",
       "      <td>False</td>\n",
       "    </tr>\n",
       "    <tr>\n",
       "      <th>22</th>\n",
       "      <td>False</td>\n",
       "      <td>False</td>\n",
       "      <td>False</td>\n",
       "      <td>False</td>\n",
       "      <td>False</td>\n",
       "      <td>False</td>\n",
       "      <td>False</td>\n",
       "      <td>False</td>\n",
       "      <td>False</td>\n",
       "      <td>False</td>\n",
       "    </tr>\n",
       "    <tr>\n",
       "      <th>23</th>\n",
       "      <td>False</td>\n",
       "      <td>False</td>\n",
       "      <td>False</td>\n",
       "      <td>False</td>\n",
       "      <td>False</td>\n",
       "      <td>False</td>\n",
       "      <td>False</td>\n",
       "      <td>False</td>\n",
       "      <td>False</td>\n",
       "      <td>False</td>\n",
       "    </tr>\n",
       "    <tr>\n",
       "      <th>24</th>\n",
       "      <td>False</td>\n",
       "      <td>False</td>\n",
       "      <td>False</td>\n",
       "      <td>False</td>\n",
       "      <td>False</td>\n",
       "      <td>False</td>\n",
       "      <td>False</td>\n",
       "      <td>False</td>\n",
       "      <td>False</td>\n",
       "      <td>False</td>\n",
       "    </tr>\n",
       "    <tr>\n",
       "      <th>25</th>\n",
       "      <td>False</td>\n",
       "      <td>False</td>\n",
       "      <td>False</td>\n",
       "      <td>False</td>\n",
       "      <td>False</td>\n",
       "      <td>False</td>\n",
       "      <td>False</td>\n",
       "      <td>False</td>\n",
       "      <td>False</td>\n",
       "      <td>False</td>\n",
       "    </tr>\n",
       "    <tr>\n",
       "      <th>26</th>\n",
       "      <td>False</td>\n",
       "      <td>False</td>\n",
       "      <td>False</td>\n",
       "      <td>False</td>\n",
       "      <td>False</td>\n",
       "      <td>False</td>\n",
       "      <td>False</td>\n",
       "      <td>False</td>\n",
       "      <td>False</td>\n",
       "      <td>False</td>\n",
       "    </tr>\n",
       "    <tr>\n",
       "      <th>27</th>\n",
       "      <td>False</td>\n",
       "      <td>False</td>\n",
       "      <td>False</td>\n",
       "      <td>False</td>\n",
       "      <td>False</td>\n",
       "      <td>False</td>\n",
       "      <td>False</td>\n",
       "      <td>False</td>\n",
       "      <td>False</td>\n",
       "      <td>False</td>\n",
       "    </tr>\n",
       "    <tr>\n",
       "      <th>28</th>\n",
       "      <td>False</td>\n",
       "      <td>False</td>\n",
       "      <td>False</td>\n",
       "      <td>False</td>\n",
       "      <td>False</td>\n",
       "      <td>False</td>\n",
       "      <td>False</td>\n",
       "      <td>False</td>\n",
       "      <td>False</td>\n",
       "      <td>False</td>\n",
       "    </tr>\n",
       "    <tr>\n",
       "      <th>29</th>\n",
       "      <td>False</td>\n",
       "      <td>False</td>\n",
       "      <td>False</td>\n",
       "      <td>False</td>\n",
       "      <td>False</td>\n",
       "      <td>False</td>\n",
       "      <td>False</td>\n",
       "      <td>False</td>\n",
       "      <td>False</td>\n",
       "      <td>False</td>\n",
       "    </tr>\n",
       "    <tr>\n",
       "      <th>30</th>\n",
       "      <td>False</td>\n",
       "      <td>False</td>\n",
       "      <td>False</td>\n",
       "      <td>False</td>\n",
       "      <td>False</td>\n",
       "      <td>False</td>\n",
       "      <td>False</td>\n",
       "      <td>False</td>\n",
       "      <td>False</td>\n",
       "      <td>False</td>\n",
       "    </tr>\n",
       "  </tbody>\n",
       "</table>\n",
       "</div>"
      ],
      "text/plain": [
       "     NAME  GENDER    AGE  AGEGROUP  WEIGHT    OXY  RUNTIME  RUNPULSE  \\\n",
       "0   False   False  False     False   False  False    False     False   \n",
       "1   False    True  False     False   False  False    False     False   \n",
       "2   False   False  False     False   False  False    False     False   \n",
       "3   False   False  False     False   False  False    False     False   \n",
       "4   False   False  False     False    True  False    False     False   \n",
       "5   False   False  False     False   False  False    False     False   \n",
       "6   False   False  False     False   False  False    False     False   \n",
       "7   False   False  False     False   False  False    False     False   \n",
       "8   False   False  False     False   False  False    False     False   \n",
       "9   False   False  False     False   False  False    False     False   \n",
       "10  False   False  False     False   False  False    False     False   \n",
       "11  False   False  False     False   False  False    False     False   \n",
       "12  False   False  False     False   False  False    False     False   \n",
       "13  False   False  False     False   False  False    False     False   \n",
       "14  False   False  False     False   False  False    False     False   \n",
       "15  False   False  False     False   False  False    False     False   \n",
       "16  False   False  False     False   False  False    False     False   \n",
       "17  False   False  False     False   False  False    False     False   \n",
       "18  False   False  False     False    True  False    False     False   \n",
       "19  False   False  False     False   False  False    False     False   \n",
       "20  False   False  False     False   False  False    False     False   \n",
       "21  False   False  False     False   False  False    False     False   \n",
       "22  False   False  False     False   False  False    False     False   \n",
       "23  False   False  False     False   False  False    False     False   \n",
       "24  False   False  False     False   False  False    False     False   \n",
       "25  False   False  False     False   False  False    False     False   \n",
       "26  False   False  False     False   False  False    False     False   \n",
       "27  False   False  False     False   False  False    False     False   \n",
       "28  False   False  False     False   False  False    False     False   \n",
       "29  False   False  False     False   False  False    False     False   \n",
       "30  False   False  False     False   False  False    False     False   \n",
       "\n",
       "    RSTPULSE  MAXPULSE  \n",
       "0      False     False  \n",
       "1      False     False  \n",
       "2      False     False  \n",
       "3      False     False  \n",
       "4      False     False  \n",
       "5      False     False  \n",
       "6      False     False  \n",
       "7      False     False  \n",
       "8      False     False  \n",
       "9      False     False  \n",
       "10     False     False  \n",
       "11     False     False  \n",
       "12     False     False  \n",
       "13     False     False  \n",
       "14     False     False  \n",
       "15     False     False  \n",
       "16     False     False  \n",
       "17     False     False  \n",
       "18     False     False  \n",
       "19     False     False  \n",
       "20     False     False  \n",
       "21     False     False  \n",
       "22     False     False  \n",
       "23     False     False  \n",
       "24     False     False  \n",
       "25     False     False  \n",
       "26     False     False  \n",
       "27     False     False  \n",
       "28     False     False  \n",
       "29     False     False  \n",
       "30     False     False  "
      ]
     },
     "execution_count": 3,
     "metadata": {},
     "output_type": "execute_result"
    }
   ],
   "source": [
    "ds_fitness.isnull()"
   ]
  },
  {
   "cell_type": "code",
   "execution_count": 4,
   "metadata": {},
   "outputs": [
    {
     "data": {
      "text/plain": [
       "NAME        0\n",
       "GENDER      1\n",
       "AGE         0\n",
       "AGEGROUP    0\n",
       "WEIGHT      2\n",
       "OXY         0\n",
       "RUNTIME     0\n",
       "RUNPULSE    0\n",
       "RSTPULSE    0\n",
       "MAXPULSE    0\n",
       "dtype: int64"
      ]
     },
     "execution_count": 4,
     "metadata": {},
     "output_type": "execute_result"
    }
   ],
   "source": [
    "ds_fitness.isnull().sum()"
   ]
  },
  {
   "cell_type": "code",
   "execution_count": 147,
   "metadata": {},
   "outputs": [
    {
     "data": {
      "text/html": [
       "<div>\n",
       "<style scoped>\n",
       "    .dataframe tbody tr th:only-of-type {\n",
       "        vertical-align: middle;\n",
       "    }\n",
       "\n",
       "    .dataframe tbody tr th {\n",
       "        vertical-align: top;\n",
       "    }\n",
       "\n",
       "    .dataframe thead th {\n",
       "        text-align: right;\n",
       "    }\n",
       "</style>\n",
       "<table border=\"1\" class=\"dataframe\">\n",
       "  <thead>\n",
       "    <tr style=\"text-align: right;\">\n",
       "      <th></th>\n",
       "      <th>NAME</th>\n",
       "      <th>GENDER</th>\n",
       "      <th>AGE</th>\n",
       "      <th>AGEGROUP</th>\n",
       "      <th>WEIGHT</th>\n",
       "      <th>OXY</th>\n",
       "      <th>RUNTIME</th>\n",
       "      <th>RUNPULSE</th>\n",
       "      <th>RSTPULSE</th>\n",
       "      <th>MAXPULSE</th>\n",
       "    </tr>\n",
       "  </thead>\n",
       "  <tbody>\n",
       "    <tr>\n",
       "      <th>0</th>\n",
       "      <td>Donna</td>\n",
       "      <td>여성</td>\n",
       "      <td>42</td>\n",
       "      <td>40대</td>\n",
       "      <td>68.15</td>\n",
       "      <td>59.571</td>\n",
       "      <td>8.17</td>\n",
       "      <td>166</td>\n",
       "      <td>40</td>\n",
       "      <td>172</td>\n",
       "    </tr>\n",
       "    <tr>\n",
       "      <th>1</th>\n",
       "      <td>Gracie</td>\n",
       "      <td>여성</td>\n",
       "      <td>38</td>\n",
       "      <td>30대</td>\n",
       "      <td>81.87</td>\n",
       "      <td>60.055</td>\n",
       "      <td>8.63</td>\n",
       "      <td>170</td>\n",
       "      <td>48</td>\n",
       "      <td>186</td>\n",
       "    </tr>\n",
       "    <tr>\n",
       "      <th>2</th>\n",
       "      <td>Luanne</td>\n",
       "      <td>여성</td>\n",
       "      <td>43</td>\n",
       "      <td>40대</td>\n",
       "      <td>85.84</td>\n",
       "      <td>54.297</td>\n",
       "      <td>8.65</td>\n",
       "      <td>156</td>\n",
       "      <td>45</td>\n",
       "      <td>168</td>\n",
       "    </tr>\n",
       "    <tr>\n",
       "      <th>3</th>\n",
       "      <td>Mimi</td>\n",
       "      <td>여성</td>\n",
       "      <td>50</td>\n",
       "      <td>50대</td>\n",
       "      <td>70.87</td>\n",
       "      <td>54.625</td>\n",
       "      <td>8.92</td>\n",
       "      <td>146</td>\n",
       "      <td>48</td>\n",
       "      <td>155</td>\n",
       "    </tr>\n",
       "    <tr>\n",
       "      <th>4</th>\n",
       "      <td>Chris</td>\n",
       "      <td>남성</td>\n",
       "      <td>49</td>\n",
       "      <td>40대</td>\n",
       "      <td>NaN</td>\n",
       "      <td>49.156</td>\n",
       "      <td>8.95</td>\n",
       "      <td>180</td>\n",
       "      <td>44</td>\n",
       "      <td>185</td>\n",
       "    </tr>\n",
       "  </tbody>\n",
       "</table>\n",
       "</div>"
      ],
      "text/plain": [
       "     NAME GENDER  AGE AGEGROUP  WEIGHT     OXY  RUNTIME  RUNPULSE  RSTPULSE  \\\n",
       "0   Donna     여성   42      40대   68.15  59.571     8.17       166        40   \n",
       "1  Gracie     여성   38      30대   81.87  60.055     8.63       170        48   \n",
       "2  Luanne     여성   43      40대   85.84  54.297     8.65       156        45   \n",
       "3    Mimi     여성   50      50대   70.87  54.625     8.92       146        48   \n",
       "4   Chris     남성   49      40대     NaN  49.156     8.95       180        44   \n",
       "\n",
       "   MAXPULSE  \n",
       "0       172  \n",
       "1       186  \n",
       "2       168  \n",
       "3       155  \n",
       "4       185  "
      ]
     },
     "execution_count": 147,
     "metadata": {},
     "output_type": "execute_result"
    }
   ],
   "source": [
    "# replace nan to \"여성\"\n",
    "ds_fitness['GENDER'].fillna(\"여성\", inplace = True) # inplace : want change result? - default = False\n",
    "ds_fitness.head()"
   ]
  },
  {
   "cell_type": "code",
   "execution_count": 148,
   "metadata": {},
   "outputs": [
    {
     "data": {
      "text/plain": [
       "GENDER\n",
       "남성    82.433077\n",
       "여성    72.908750\n",
       "Name: WEIGHT, dtype: float64"
      ]
     },
     "execution_count": 148,
     "metadata": {},
     "output_type": "execute_result"
    }
   ],
   "source": [
    "# GENDER 별 평균 확인\n",
    "ds_fitness.groupby(\"GENDER\")[\"WEIGHT\"].agg(\"mean\")"
   ]
  },
  {
   "cell_type": "code",
   "execution_count": 149,
   "metadata": {},
   "outputs": [
    {
     "data": {
      "text/plain": [
       "0    72.908750\n",
       "1    72.908750\n",
       "2    72.908750\n",
       "3    72.908750\n",
       "4    82.433077\n",
       "Name: WEIGHT, dtype: float64"
      ]
     },
     "execution_count": 149,
     "metadata": {},
     "output_type": "execute_result"
    }
   ],
   "source": [
    "# 남성 결측치에 WEIGHT남성 평균을 입력하자\n",
    "ds_fitness.groupby(\"GENDER\")[\"WEIGHT\"].transform(\"mean\").head()"
   ]
  },
  {
   "cell_type": "code",
   "execution_count": 150,
   "metadata": {},
   "outputs": [
    {
     "data": {
      "text/html": [
       "<div>\n",
       "<style scoped>\n",
       "    .dataframe tbody tr th:only-of-type {\n",
       "        vertical-align: middle;\n",
       "    }\n",
       "\n",
       "    .dataframe tbody tr th {\n",
       "        vertical-align: top;\n",
       "    }\n",
       "\n",
       "    .dataframe thead th {\n",
       "        text-align: right;\n",
       "    }\n",
       "</style>\n",
       "<table border=\"1\" class=\"dataframe\">\n",
       "  <thead>\n",
       "    <tr style=\"text-align: right;\">\n",
       "      <th></th>\n",
       "      <th>NAME</th>\n",
       "      <th>GENDER</th>\n",
       "      <th>AGE</th>\n",
       "      <th>AGEGROUP</th>\n",
       "      <th>WEIGHT</th>\n",
       "      <th>OXY</th>\n",
       "      <th>RUNTIME</th>\n",
       "      <th>RUNPULSE</th>\n",
       "      <th>RSTPULSE</th>\n",
       "      <th>MAXPULSE</th>\n",
       "    </tr>\n",
       "  </thead>\n",
       "  <tbody>\n",
       "    <tr>\n",
       "      <th>0</th>\n",
       "      <td>Donna</td>\n",
       "      <td>여성</td>\n",
       "      <td>42</td>\n",
       "      <td>40대</td>\n",
       "      <td>68.150</td>\n",
       "      <td>59.571</td>\n",
       "      <td>8.17</td>\n",
       "      <td>166</td>\n",
       "      <td>40</td>\n",
       "      <td>172</td>\n",
       "    </tr>\n",
       "    <tr>\n",
       "      <th>1</th>\n",
       "      <td>Gracie</td>\n",
       "      <td>여성</td>\n",
       "      <td>38</td>\n",
       "      <td>30대</td>\n",
       "      <td>81.870</td>\n",
       "      <td>60.055</td>\n",
       "      <td>8.63</td>\n",
       "      <td>170</td>\n",
       "      <td>48</td>\n",
       "      <td>186</td>\n",
       "    </tr>\n",
       "    <tr>\n",
       "      <th>2</th>\n",
       "      <td>Luanne</td>\n",
       "      <td>여성</td>\n",
       "      <td>43</td>\n",
       "      <td>40대</td>\n",
       "      <td>85.840</td>\n",
       "      <td>54.297</td>\n",
       "      <td>8.65</td>\n",
       "      <td>156</td>\n",
       "      <td>45</td>\n",
       "      <td>168</td>\n",
       "    </tr>\n",
       "    <tr>\n",
       "      <th>3</th>\n",
       "      <td>Mimi</td>\n",
       "      <td>여성</td>\n",
       "      <td>50</td>\n",
       "      <td>50대</td>\n",
       "      <td>70.870</td>\n",
       "      <td>54.625</td>\n",
       "      <td>8.92</td>\n",
       "      <td>146</td>\n",
       "      <td>48</td>\n",
       "      <td>155</td>\n",
       "    </tr>\n",
       "    <tr>\n",
       "      <th>4</th>\n",
       "      <td>Chris</td>\n",
       "      <td>남성</td>\n",
       "      <td>49</td>\n",
       "      <td>40대</td>\n",
       "      <td>82.433</td>\n",
       "      <td>49.156</td>\n",
       "      <td>8.95</td>\n",
       "      <td>180</td>\n",
       "      <td>44</td>\n",
       "      <td>185</td>\n",
       "    </tr>\n",
       "  </tbody>\n",
       "</table>\n",
       "</div>"
      ],
      "text/plain": [
       "     NAME GENDER  AGE AGEGROUP  WEIGHT     OXY  RUNTIME  RUNPULSE  RSTPULSE  \\\n",
       "0   Donna     여성   42      40대  68.150  59.571     8.17       166        40   \n",
       "1  Gracie     여성   38      30대  81.870  60.055     8.63       170        48   \n",
       "2  Luanne     여성   43      40대  85.840  54.297     8.65       156        45   \n",
       "3    Mimi     여성   50      50대  70.870  54.625     8.92       146        48   \n",
       "4   Chris     남성   49      40대  82.433  49.156     8.95       180        44   \n",
       "\n",
       "   MAXPULSE  \n",
       "0       172  \n",
       "1       186  \n",
       "2       168  \n",
       "3       155  \n",
       "4       185  "
      ]
     },
     "execution_count": 150,
     "metadata": {},
     "output_type": "execute_result"
    }
   ],
   "source": [
    "# 남성 결측치에 WEIGHT남성 평균을 입력하자2\n",
    "ds_fitness[\"WEIGHT\"] = ds_fitness[\"WEIGHT\"].fillna(ds_fitness.groupby(\"GENDER\")[\"WEIGHT\"].transform(\"mean\")).round(3)\n",
    "ds_fitness.head()"
   ]
  },
  {
   "cell_type": "markdown",
   "metadata": {},
   "source": [
    "### 3. Data Scaling transformation ###"
   ]
  },
  {
   "cell_type": "code",
   "execution_count": 151,
   "metadata": {},
   "outputs": [],
   "source": [
    "ds_fitness_char = ds_fitness.select_dtypes(include = 'object') # object type만 include : 캐릭터만 남음\n",
    "ds_fitness_numeric = ds_fitness.select_dtypes(exclude = 'object') # object type만  exclude : 숫자만 남음"
   ]
  },
  {
   "cell_type": "code",
   "execution_count": 152,
   "metadata": {},
   "outputs": [
    {
     "name": "stderr",
     "output_type": "stream",
     "text": [
      "/home/pirl/anaconda3/envs/py35/lib/python3.5/site-packages/ipykernel_launcher.py:1: DataConversionWarning: Data with input dtype int64, float64 were all converted to float64 by the scale function.\n",
      "  \"\"\"Entry point for launching an IPython kernel.\n"
     ]
    },
    {
     "data": {
      "text/html": [
       "<div>\n",
       "<style scoped>\n",
       "    .dataframe tbody tr th:only-of-type {\n",
       "        vertical-align: middle;\n",
       "    }\n",
       "\n",
       "    .dataframe tbody tr th {\n",
       "        vertical-align: top;\n",
       "    }\n",
       "\n",
       "    .dataframe thead th {\n",
       "        text-align: right;\n",
       "    }\n",
       "</style>\n",
       "<table border=\"1\" class=\"dataframe\">\n",
       "  <thead>\n",
       "    <tr style=\"text-align: right;\">\n",
       "      <th></th>\n",
       "      <th>AGE</th>\n",
       "      <th>WEIGHT</th>\n",
       "      <th>OXY</th>\n",
       "      <th>RUNTIME</th>\n",
       "      <th>RUNPULSE</th>\n",
       "      <th>RSTPULSE</th>\n",
       "      <th>MAXPULSE</th>\n",
       "    </tr>\n",
       "  </thead>\n",
       "  <tbody>\n",
       "    <tr>\n",
       "      <th>0</th>\n",
       "      <td>-0.839365</td>\n",
       "      <td>-1.137916</td>\n",
       "      <td>2.327059</td>\n",
       "      <td>-1.770249</td>\n",
       "      <td>-0.361434</td>\n",
       "      <td>-0.951242</td>\n",
       "      <td>-0.196803</td>\n",
       "    </tr>\n",
       "    <tr>\n",
       "      <th>1</th>\n",
       "      <td>-1.533241</td>\n",
       "      <td>0.528757</td>\n",
       "      <td>2.419415</td>\n",
       "      <td>-1.433216</td>\n",
       "      <td>0.035184</td>\n",
       "      <td>-0.494940</td>\n",
       "      <td>1.356151</td>\n",
       "    </tr>\n",
       "    <tr>\n",
       "      <th>2</th>\n",
       "      <td>-0.665896</td>\n",
       "      <td>1.011023</td>\n",
       "      <td>1.320686</td>\n",
       "      <td>-1.418562</td>\n",
       "      <td>-1.352978</td>\n",
       "      <td>-0.666054</td>\n",
       "      <td>-0.640504</td>\n",
       "    </tr>\n",
       "    <tr>\n",
       "      <th>3</th>\n",
       "      <td>0.548385</td>\n",
       "      <td>-0.807497</td>\n",
       "      <td>1.383275</td>\n",
       "      <td>-1.220739</td>\n",
       "      <td>-2.344523</td>\n",
       "      <td>-0.494940</td>\n",
       "      <td>-2.082533</td>\n",
       "    </tr>\n",
       "    <tr>\n",
       "      <th>4</th>\n",
       "      <td>0.374916</td>\n",
       "      <td>0.597149</td>\n",
       "      <td>0.339692</td>\n",
       "      <td>-1.198758</td>\n",
       "      <td>1.026728</td>\n",
       "      <td>-0.723091</td>\n",
       "      <td>1.245226</td>\n",
       "    </tr>\n",
       "  </tbody>\n",
       "</table>\n",
       "</div>"
      ],
      "text/plain": [
       "        AGE    WEIGHT       OXY   RUNTIME  RUNPULSE  RSTPULSE  MAXPULSE\n",
       "0 -0.839365 -1.137916  2.327059 -1.770249 -0.361434 -0.951242 -0.196803\n",
       "1 -1.533241  0.528757  2.419415 -1.433216  0.035184 -0.494940  1.356151\n",
       "2 -0.665896  1.011023  1.320686 -1.418562 -1.352978 -0.666054 -0.640504\n",
       "3  0.548385 -0.807497  1.383275 -1.220739 -2.344523 -0.494940 -2.082533\n",
       "4  0.374916  0.597149  0.339692 -1.198758  1.026728 -0.723091  1.245226"
      ]
     },
     "execution_count": 152,
     "metadata": {},
     "output_type": "execute_result"
    }
   ],
   "source": [
    "ds_scale = scale(ds_fitness_numeric)\n",
    "ds_scale = pd.DataFrame(ds_scale, columns = ds_fitness_numeric.columns)\n",
    "ds_scale.head()"
   ]
  },
  {
   "cell_type": "code",
   "execution_count": 153,
   "metadata": {},
   "outputs": [
    {
     "data": {
      "text/html": [
       "<div>\n",
       "<style scoped>\n",
       "    .dataframe tbody tr th:only-of-type {\n",
       "        vertical-align: middle;\n",
       "    }\n",
       "\n",
       "    .dataframe tbody tr th {\n",
       "        vertical-align: top;\n",
       "    }\n",
       "\n",
       "    .dataframe thead th {\n",
       "        text-align: right;\n",
       "    }\n",
       "</style>\n",
       "<table border=\"1\" class=\"dataframe\">\n",
       "  <thead>\n",
       "    <tr style=\"text-align: right;\">\n",
       "      <th></th>\n",
       "      <th>AGE</th>\n",
       "      <th>WEIGHT</th>\n",
       "      <th>OXY</th>\n",
       "      <th>RUNTIME</th>\n",
       "      <th>RUNPULSE</th>\n",
       "      <th>RSTPULSE</th>\n",
       "      <th>MAXPULSE</th>\n",
       "    </tr>\n",
       "  </thead>\n",
       "  <tbody>\n",
       "    <tr>\n",
       "      <th>count</th>\n",
       "      <td>31.000</td>\n",
       "      <td>31.000</td>\n",
       "      <td>31.000</td>\n",
       "      <td>31.000</td>\n",
       "      <td>31.000</td>\n",
       "      <td>31.000</td>\n",
       "      <td>31.000</td>\n",
       "    </tr>\n",
       "    <tr>\n",
       "      <th>mean</th>\n",
       "      <td>0.000</td>\n",
       "      <td>-0.000</td>\n",
       "      <td>0.000</td>\n",
       "      <td>0.000</td>\n",
       "      <td>-0.000</td>\n",
       "      <td>-0.000</td>\n",
       "      <td>-0.000</td>\n",
       "    </tr>\n",
       "    <tr>\n",
       "      <th>std</th>\n",
       "      <td>1.017</td>\n",
       "      <td>1.017</td>\n",
       "      <td>1.017</td>\n",
       "      <td>1.017</td>\n",
       "      <td>1.017</td>\n",
       "      <td>1.017</td>\n",
       "      <td>1.017</td>\n",
       "    </tr>\n",
       "    <tr>\n",
       "      <th>min</th>\n",
       "      <td>-1.707</td>\n",
       "      <td>-2.240</td>\n",
       "      <td>-1.906</td>\n",
       "      <td>-1.770</td>\n",
       "      <td>-2.345</td>\n",
       "      <td>-0.951</td>\n",
       "      <td>-2.083</td>\n",
       "    </tr>\n",
       "    <tr>\n",
       "      <th>25%</th>\n",
       "      <td>-0.666</td>\n",
       "      <td>-0.524</td>\n",
       "      <td>-0.460</td>\n",
       "      <td>-0.591</td>\n",
       "      <td>-0.659</td>\n",
       "      <td>-0.495</td>\n",
       "      <td>-0.641</td>\n",
       "    </tr>\n",
       "    <tr>\n",
       "      <th>50%</th>\n",
       "      <td>0.201</td>\n",
       "      <td>-0.008</td>\n",
       "      <td>-0.115</td>\n",
       "      <td>-0.085</td>\n",
       "      <td>0.035</td>\n",
       "      <td>-0.210</td>\n",
       "      <td>-0.197</td>\n",
       "    </tr>\n",
       "    <tr>\n",
       "      <th>75%</th>\n",
       "      <td>0.722</td>\n",
       "      <td>0.618</td>\n",
       "      <td>0.526</td>\n",
       "      <td>0.501</td>\n",
       "      <td>0.630</td>\n",
       "      <td>0.218</td>\n",
       "      <td>0.691</td>\n",
       "    </tr>\n",
       "    <tr>\n",
       "      <th>max</th>\n",
       "      <td>1.763</td>\n",
       "      <td>1.714</td>\n",
       "      <td>2.419</td>\n",
       "      <td>2.523</td>\n",
       "      <td>1.622</td>\n",
       "      <td>4.981</td>\n",
       "      <td>2.022</td>\n",
       "    </tr>\n",
       "  </tbody>\n",
       "</table>\n",
       "</div>"
      ],
      "text/plain": [
       "          AGE  WEIGHT     OXY  RUNTIME  RUNPULSE  RSTPULSE  MAXPULSE\n",
       "count  31.000  31.000  31.000   31.000    31.000    31.000    31.000\n",
       "mean    0.000  -0.000   0.000    0.000    -0.000    -0.000    -0.000\n",
       "std     1.017   1.017   1.017    1.017     1.017     1.017     1.017\n",
       "min    -1.707  -2.240  -1.906   -1.770    -2.345    -0.951    -2.083\n",
       "25%    -0.666  -0.524  -0.460   -0.591    -0.659    -0.495    -0.641\n",
       "50%     0.201  -0.008  -0.115   -0.085     0.035    -0.210    -0.197\n",
       "75%     0.722   0.618   0.526    0.501     0.630     0.218     0.691\n",
       "max     1.763   1.714   2.419    2.523     1.622     4.981     2.022"
      ]
     },
     "execution_count": 153,
     "metadata": {},
     "output_type": "execute_result"
    }
   ],
   "source": [
    "ds_scale_describe = ds_scale.describe()\n",
    "ds_scale_describe.round(3)"
   ]
  },
  {
   "cell_type": "code",
   "execution_count": 154,
   "metadata": {},
   "outputs": [
    {
     "name": "stderr",
     "output_type": "stream",
     "text": [
      "/home/pirl/anaconda3/envs/py35/lib/python3.5/site-packages/ipykernel_launcher.py:1: DataConversionWarning: Data with input dtype int64, float64 were all converted to float64.\n",
      "  \"\"\"Entry point for launching an IPython kernel.\n"
     ]
    },
    {
     "data": {
      "text/html": [
       "<div>\n",
       "<style scoped>\n",
       "    .dataframe tbody tr th:only-of-type {\n",
       "        vertical-align: middle;\n",
       "    }\n",
       "\n",
       "    .dataframe tbody tr th {\n",
       "        vertical-align: top;\n",
       "    }\n",
       "\n",
       "    .dataframe thead th {\n",
       "        text-align: right;\n",
       "    }\n",
       "</style>\n",
       "<table border=\"1\" class=\"dataframe\">\n",
       "  <thead>\n",
       "    <tr style=\"text-align: right;\">\n",
       "      <th></th>\n",
       "      <th>AGE</th>\n",
       "      <th>WEIGHT</th>\n",
       "      <th>OXY</th>\n",
       "      <th>RUNTIME</th>\n",
       "      <th>RUNPULSE</th>\n",
       "      <th>RSTPULSE</th>\n",
       "      <th>MAXPULSE</th>\n",
       "    </tr>\n",
       "  </thead>\n",
       "  <tbody>\n",
       "    <tr>\n",
       "      <th>0</th>\n",
       "      <td>0.25</td>\n",
       "      <td>0.278648</td>\n",
       "      <td>0.978647</td>\n",
       "      <td>0.000000</td>\n",
       "      <td>0.50</td>\n",
       "      <td>0.000000</td>\n",
       "      <td>0.459459</td>\n",
       "    </tr>\n",
       "    <tr>\n",
       "      <th>1</th>\n",
       "      <td>0.05</td>\n",
       "      <td>0.700154</td>\n",
       "      <td>1.000000</td>\n",
       "      <td>0.078498</td>\n",
       "      <td>0.60</td>\n",
       "      <td>0.076923</td>\n",
       "      <td>0.837838</td>\n",
       "    </tr>\n",
       "    <tr>\n",
       "      <th>2</th>\n",
       "      <td>0.30</td>\n",
       "      <td>0.822120</td>\n",
       "      <td>0.745974</td>\n",
       "      <td>0.081911</td>\n",
       "      <td>0.25</td>\n",
       "      <td>0.048077</td>\n",
       "      <td>0.351351</td>\n",
       "    </tr>\n",
       "    <tr>\n",
       "      <th>3</th>\n",
       "      <td>0.65</td>\n",
       "      <td>0.362212</td>\n",
       "      <td>0.760445</td>\n",
       "      <td>0.127986</td>\n",
       "      <td>0.00</td>\n",
       "      <td>0.076923</td>\n",
       "      <td>0.000000</td>\n",
       "    </tr>\n",
       "    <tr>\n",
       "      <th>4</th>\n",
       "      <td>0.60</td>\n",
       "      <td>0.717450</td>\n",
       "      <td>0.519169</td>\n",
       "      <td>0.133106</td>\n",
       "      <td>0.85</td>\n",
       "      <td>0.038462</td>\n",
       "      <td>0.810811</td>\n",
       "    </tr>\n",
       "  </tbody>\n",
       "</table>\n",
       "</div>"
      ],
      "text/plain": [
       "    AGE    WEIGHT       OXY   RUNTIME  RUNPULSE  RSTPULSE  MAXPULSE\n",
       "0  0.25  0.278648  0.978647  0.000000      0.50  0.000000  0.459459\n",
       "1  0.05  0.700154  1.000000  0.078498      0.60  0.076923  0.837838\n",
       "2  0.30  0.822120  0.745974  0.081911      0.25  0.048077  0.351351\n",
       "3  0.65  0.362212  0.760445  0.127986      0.00  0.076923  0.000000\n",
       "4  0.60  0.717450  0.519169  0.133106      0.85  0.038462  0.810811"
      ]
     },
     "execution_count": 154,
     "metadata": {},
     "output_type": "execute_result"
    }
   ],
   "source": [
    "ds_minmax_scale = minmax_scale(ds_fitness_numeric)\n",
    "ds_minmax_scale = pd.DataFrame(ds_minmax_scale, columns = ds_fitness_numeric.columns)\n",
    "ds_minmax_scale.head()"
   ]
  },
  {
   "cell_type": "code",
   "execution_count": 155,
   "metadata": {},
   "outputs": [
    {
     "data": {
      "text/html": [
       "<div>\n",
       "<style scoped>\n",
       "    .dataframe tbody tr th:only-of-type {\n",
       "        vertical-align: middle;\n",
       "    }\n",
       "\n",
       "    .dataframe tbody tr th {\n",
       "        vertical-align: top;\n",
       "    }\n",
       "\n",
       "    .dataframe thead th {\n",
       "        text-align: right;\n",
       "    }\n",
       "</style>\n",
       "<table border=\"1\" class=\"dataframe\">\n",
       "  <thead>\n",
       "    <tr style=\"text-align: right;\">\n",
       "      <th></th>\n",
       "      <th>AGE</th>\n",
       "      <th>WEIGHT</th>\n",
       "      <th>OXY</th>\n",
       "      <th>RUNTIME</th>\n",
       "      <th>RUNPULSE</th>\n",
       "      <th>RSTPULSE</th>\n",
       "      <th>MAXPULSE</th>\n",
       "    </tr>\n",
       "  </thead>\n",
       "  <tbody>\n",
       "    <tr>\n",
       "      <th>count</th>\n",
       "      <td>31.000</td>\n",
       "      <td>31.000</td>\n",
       "      <td>31.000</td>\n",
       "      <td>31.000</td>\n",
       "      <td>31.000</td>\n",
       "      <td>31.000</td>\n",
       "      <td>31.000</td>\n",
       "    </tr>\n",
       "    <tr>\n",
       "      <th>mean</th>\n",
       "      <td>0.492</td>\n",
       "      <td>0.566</td>\n",
       "      <td>0.441</td>\n",
       "      <td>0.412</td>\n",
       "      <td>0.591</td>\n",
       "      <td>0.160</td>\n",
       "      <td>0.507</td>\n",
       "    </tr>\n",
       "    <tr>\n",
       "      <th>std</th>\n",
       "      <td>0.293</td>\n",
       "      <td>0.257</td>\n",
       "      <td>0.235</td>\n",
       "      <td>0.237</td>\n",
       "      <td>0.256</td>\n",
       "      <td>0.171</td>\n",
       "      <td>0.248</td>\n",
       "    </tr>\n",
       "    <tr>\n",
       "      <th>min</th>\n",
       "      <td>0.000</td>\n",
       "      <td>0.000</td>\n",
       "      <td>0.000</td>\n",
       "      <td>0.000</td>\n",
       "      <td>0.000</td>\n",
       "      <td>0.000</td>\n",
       "      <td>0.000</td>\n",
       "    </tr>\n",
       "    <tr>\n",
       "      <th>25%</th>\n",
       "      <td>0.300</td>\n",
       "      <td>0.434</td>\n",
       "      <td>0.334</td>\n",
       "      <td>0.275</td>\n",
       "      <td>0.425</td>\n",
       "      <td>0.077</td>\n",
       "      <td>0.351</td>\n",
       "    </tr>\n",
       "    <tr>\n",
       "      <th>50%</th>\n",
       "      <td>0.550</td>\n",
       "      <td>0.564</td>\n",
       "      <td>0.414</td>\n",
       "      <td>0.392</td>\n",
       "      <td>0.600</td>\n",
       "      <td>0.125</td>\n",
       "      <td>0.459</td>\n",
       "    </tr>\n",
       "    <tr>\n",
       "      <th>75%</th>\n",
       "      <td>0.700</td>\n",
       "      <td>0.723</td>\n",
       "      <td>0.562</td>\n",
       "      <td>0.529</td>\n",
       "      <td>0.750</td>\n",
       "      <td>0.197</td>\n",
       "      <td>0.676</td>\n",
       "    </tr>\n",
       "    <tr>\n",
       "      <th>max</th>\n",
       "      <td>1.000</td>\n",
       "      <td>1.000</td>\n",
       "      <td>1.000</td>\n",
       "      <td>1.000</td>\n",
       "      <td>1.000</td>\n",
       "      <td>1.000</td>\n",
       "      <td>1.000</td>\n",
       "    </tr>\n",
       "  </tbody>\n",
       "</table>\n",
       "</div>"
      ],
      "text/plain": [
       "          AGE  WEIGHT     OXY  RUNTIME  RUNPULSE  RSTPULSE  MAXPULSE\n",
       "count  31.000  31.000  31.000   31.000    31.000    31.000    31.000\n",
       "mean    0.492   0.566   0.441    0.412     0.591     0.160     0.507\n",
       "std     0.293   0.257   0.235    0.237     0.256     0.171     0.248\n",
       "min     0.000   0.000   0.000    0.000     0.000     0.000     0.000\n",
       "25%     0.300   0.434   0.334    0.275     0.425     0.077     0.351\n",
       "50%     0.550   0.564   0.414    0.392     0.600     0.125     0.459\n",
       "75%     0.700   0.723   0.562    0.529     0.750     0.197     0.676\n",
       "max     1.000   1.000   1.000    1.000     1.000     1.000     1.000"
      ]
     },
     "execution_count": 155,
     "metadata": {},
     "output_type": "execute_result"
    }
   ],
   "source": [
    "ds_minmax_scale_describe = ds_minmax_scale.describe()\n",
    "ds_minmax_scale_describe.round(3)"
   ]
  },
  {
   "cell_type": "code",
   "execution_count": 156,
   "metadata": {},
   "outputs": [
    {
     "data": {
      "text/html": [
       "<div>\n",
       "<style scoped>\n",
       "    .dataframe tbody tr th:only-of-type {\n",
       "        vertical-align: middle;\n",
       "    }\n",
       "\n",
       "    .dataframe tbody tr th {\n",
       "        vertical-align: top;\n",
       "    }\n",
       "\n",
       "    .dataframe thead th {\n",
       "        text-align: right;\n",
       "    }\n",
       "</style>\n",
       "<table border=\"1\" class=\"dataframe\">\n",
       "  <thead>\n",
       "    <tr style=\"text-align: right;\">\n",
       "      <th></th>\n",
       "      <th>AGE</th>\n",
       "      <th>WEIGHT</th>\n",
       "      <th>OXY</th>\n",
       "      <th>RUNTIME</th>\n",
       "      <th>RUNPULSE</th>\n",
       "      <th>RSTPULSE</th>\n",
       "      <th>MAXPULSE</th>\n",
       "    </tr>\n",
       "  </thead>\n",
       "  <tbody>\n",
       "    <tr>\n",
       "      <th>0</th>\n",
       "      <td>-0.750</td>\n",
       "      <td>-0.988678</td>\n",
       "      <td>2.476919</td>\n",
       "      <td>-1.543624</td>\n",
       "      <td>-0.307692</td>\n",
       "      <td>-1.04</td>\n",
       "      <td>0.000000</td>\n",
       "    </tr>\n",
       "    <tr>\n",
       "      <th>1</th>\n",
       "      <td>-1.250</td>\n",
       "      <td>0.469888</td>\n",
       "      <td>2.570599</td>\n",
       "      <td>-1.234899</td>\n",
       "      <td>0.000000</td>\n",
       "      <td>-0.40</td>\n",
       "      <td>1.166667</td>\n",
       "    </tr>\n",
       "    <tr>\n",
       "      <th>2</th>\n",
       "      <td>-0.625</td>\n",
       "      <td>0.891936</td>\n",
       "      <td>1.456111</td>\n",
       "      <td>-1.221477</td>\n",
       "      <td>-1.076923</td>\n",
       "      <td>-0.64</td>\n",
       "      <td>-0.333333</td>\n",
       "    </tr>\n",
       "    <tr>\n",
       "      <th>3</th>\n",
       "      <td>0.250</td>\n",
       "      <td>-0.699516</td>\n",
       "      <td>1.519597</td>\n",
       "      <td>-1.040268</td>\n",
       "      <td>-1.846154</td>\n",
       "      <td>-0.40</td>\n",
       "      <td>-1.416667</td>\n",
       "    </tr>\n",
       "    <tr>\n",
       "      <th>4</th>\n",
       "      <td>0.125</td>\n",
       "      <td>0.529740</td>\n",
       "      <td>0.461047</td>\n",
       "      <td>-1.020134</td>\n",
       "      <td>0.769231</td>\n",
       "      <td>-0.72</td>\n",
       "      <td>1.083333</td>\n",
       "    </tr>\n",
       "  </tbody>\n",
       "</table>\n",
       "</div>"
      ],
      "text/plain": [
       "     AGE    WEIGHT       OXY   RUNTIME  RUNPULSE  RSTPULSE  MAXPULSE\n",
       "0 -0.750 -0.988678  2.476919 -1.543624 -0.307692     -1.04  0.000000\n",
       "1 -1.250  0.469888  2.570599 -1.234899  0.000000     -0.40  1.166667\n",
       "2 -0.625  0.891936  1.456111 -1.221477 -1.076923     -0.64 -0.333333\n",
       "3  0.250 -0.699516  1.519597 -1.040268 -1.846154     -0.40 -1.416667\n",
       "4  0.125  0.529740  0.461047 -1.020134  0.769231     -0.72  1.083333"
      ]
     },
     "execution_count": 156,
     "metadata": {},
     "output_type": "execute_result"
    }
   ],
   "source": [
    "ds_robust_scale = robust_scale(ds_fitness_numeric)\n",
    "ds_robust_scale = pd.DataFrame(ds_robust_scale, columns = ds_fitness_numeric.columns)\n",
    "ds_robust_scale.head()"
   ]
  },
  {
   "cell_type": "code",
   "execution_count": 157,
   "metadata": {},
   "outputs": [
    {
     "data": {
      "text/html": [
       "<div>\n",
       "<style scoped>\n",
       "    .dataframe tbody tr th:only-of-type {\n",
       "        vertical-align: middle;\n",
       "    }\n",
       "\n",
       "    .dataframe tbody tr th {\n",
       "        vertical-align: top;\n",
       "    }\n",
       "\n",
       "    .dataframe thead th {\n",
       "        text-align: right;\n",
       "    }\n",
       "</style>\n",
       "<table border=\"1\" class=\"dataframe\">\n",
       "  <thead>\n",
       "    <tr style=\"text-align: right;\">\n",
       "      <th></th>\n",
       "      <th>AGE</th>\n",
       "      <th>WEIGHT</th>\n",
       "      <th>OXY</th>\n",
       "      <th>RUNTIME</th>\n",
       "      <th>RUNPULSE</th>\n",
       "      <th>RSTPULSE</th>\n",
       "      <th>MAXPULSE</th>\n",
       "    </tr>\n",
       "  </thead>\n",
       "  <tbody>\n",
       "    <tr>\n",
       "      <th>count</th>\n",
       "      <td>31.000</td>\n",
       "      <td>31.000</td>\n",
       "      <td>31.000</td>\n",
       "      <td>31.000</td>\n",
       "      <td>31.000</td>\n",
       "      <td>31.000</td>\n",
       "      <td>31.000</td>\n",
       "    </tr>\n",
       "    <tr>\n",
       "      <th>mean</th>\n",
       "      <td>-0.145</td>\n",
       "      <td>0.007</td>\n",
       "      <td>0.116</td>\n",
       "      <td>0.078</td>\n",
       "      <td>-0.027</td>\n",
       "      <td>0.294</td>\n",
       "      <td>0.148</td>\n",
       "    </tr>\n",
       "    <tr>\n",
       "      <th>std</th>\n",
       "      <td>0.733</td>\n",
       "      <td>0.890</td>\n",
       "      <td>1.031</td>\n",
       "      <td>0.931</td>\n",
       "      <td>0.789</td>\n",
       "      <td>1.426</td>\n",
       "      <td>0.764</td>\n",
       "    </tr>\n",
       "    <tr>\n",
       "      <th>min</th>\n",
       "      <td>-1.375</td>\n",
       "      <td>-1.953</td>\n",
       "      <td>-1.817</td>\n",
       "      <td>-1.544</td>\n",
       "      <td>-1.846</td>\n",
       "      <td>-1.040</td>\n",
       "      <td>-1.417</td>\n",
       "    </tr>\n",
       "    <tr>\n",
       "      <th>25%</th>\n",
       "      <td>-0.625</td>\n",
       "      <td>-0.452</td>\n",
       "      <td>-0.350</td>\n",
       "      <td>-0.463</td>\n",
       "      <td>-0.538</td>\n",
       "      <td>-0.400</td>\n",
       "      <td>-0.333</td>\n",
       "    </tr>\n",
       "    <tr>\n",
       "      <th>50%</th>\n",
       "      <td>0.000</td>\n",
       "      <td>0.000</td>\n",
       "      <td>0.000</td>\n",
       "      <td>0.000</td>\n",
       "      <td>0.000</td>\n",
       "      <td>0.000</td>\n",
       "      <td>0.000</td>\n",
       "    </tr>\n",
       "    <tr>\n",
       "      <th>75%</th>\n",
       "      <td>0.375</td>\n",
       "      <td>0.548</td>\n",
       "      <td>0.650</td>\n",
       "      <td>0.537</td>\n",
       "      <td>0.462</td>\n",
       "      <td>0.600</td>\n",
       "      <td>0.667</td>\n",
       "    </tr>\n",
       "    <tr>\n",
       "      <th>max</th>\n",
       "      <td>1.125</td>\n",
       "      <td>1.507</td>\n",
       "      <td>2.571</td>\n",
       "      <td>2.389</td>\n",
       "      <td>1.231</td>\n",
       "      <td>7.280</td>\n",
       "      <td>1.667</td>\n",
       "    </tr>\n",
       "  </tbody>\n",
       "</table>\n",
       "</div>"
      ],
      "text/plain": [
       "          AGE  WEIGHT     OXY  RUNTIME  RUNPULSE  RSTPULSE  MAXPULSE\n",
       "count  31.000  31.000  31.000   31.000    31.000    31.000    31.000\n",
       "mean   -0.145   0.007   0.116    0.078    -0.027     0.294     0.148\n",
       "std     0.733   0.890   1.031    0.931     0.789     1.426     0.764\n",
       "min    -1.375  -1.953  -1.817   -1.544    -1.846    -1.040    -1.417\n",
       "25%    -0.625  -0.452  -0.350   -0.463    -0.538    -0.400    -0.333\n",
       "50%     0.000   0.000   0.000    0.000     0.000     0.000     0.000\n",
       "75%     0.375   0.548   0.650    0.537     0.462     0.600     0.667\n",
       "max     1.125   1.507   2.571    2.389     1.231     7.280     1.667"
      ]
     },
     "execution_count": 157,
     "metadata": {},
     "output_type": "execute_result"
    }
   ],
   "source": [
    "ds_robust_scale_describe = ds_robust_scale.describe()\n",
    "ds_robust_scale_describe.round(3)"
   ]
  },
  {
   "cell_type": "code",
   "execution_count": 158,
   "metadata": {},
   "outputs": [
    {
     "data": {
      "text/html": [
       "<div>\n",
       "<style scoped>\n",
       "    .dataframe tbody tr th:only-of-type {\n",
       "        vertical-align: middle;\n",
       "    }\n",
       "\n",
       "    .dataframe tbody tr th {\n",
       "        vertical-align: top;\n",
       "    }\n",
       "\n",
       "    .dataframe thead th {\n",
       "        text-align: right;\n",
       "    }\n",
       "</style>\n",
       "<table border=\"1\" class=\"dataframe\">\n",
       "  <thead>\n",
       "    <tr style=\"text-align: right;\">\n",
       "      <th></th>\n",
       "      <th>Raw</th>\n",
       "      <th>Scale</th>\n",
       "      <th>Robust</th>\n",
       "      <th>MinMax</th>\n",
       "    </tr>\n",
       "  </thead>\n",
       "  <tbody>\n",
       "    <tr>\n",
       "      <th>0</th>\n",
       "      <td>40</td>\n",
       "      <td>-0.951</td>\n",
       "      <td>-1.04</td>\n",
       "      <td>0.000</td>\n",
       "    </tr>\n",
       "    <tr>\n",
       "      <th>1</th>\n",
       "      <td>48</td>\n",
       "      <td>-0.495</td>\n",
       "      <td>-0.40</td>\n",
       "      <td>0.077</td>\n",
       "    </tr>\n",
       "    <tr>\n",
       "      <th>2</th>\n",
       "      <td>45</td>\n",
       "      <td>-0.666</td>\n",
       "      <td>-0.64</td>\n",
       "      <td>0.048</td>\n",
       "    </tr>\n",
       "    <tr>\n",
       "      <th>3</th>\n",
       "      <td>48</td>\n",
       "      <td>-0.495</td>\n",
       "      <td>-0.40</td>\n",
       "      <td>0.077</td>\n",
       "    </tr>\n",
       "    <tr>\n",
       "      <th>4</th>\n",
       "      <td>44</td>\n",
       "      <td>-0.723</td>\n",
       "      <td>-0.72</td>\n",
       "      <td>0.038</td>\n",
       "    </tr>\n",
       "    <tr>\n",
       "      <th>5</th>\n",
       "      <td>55</td>\n",
       "      <td>-0.096</td>\n",
       "      <td>0.16</td>\n",
       "      <td>0.144</td>\n",
       "    </tr>\n",
       "    <tr>\n",
       "      <th>6</th>\n",
       "      <td>56</td>\n",
       "      <td>-0.039</td>\n",
       "      <td>0.24</td>\n",
       "      <td>0.154</td>\n",
       "    </tr>\n",
       "    <tr>\n",
       "      <th>7</th>\n",
       "      <td>48</td>\n",
       "      <td>-0.495</td>\n",
       "      <td>-0.40</td>\n",
       "      <td>0.077</td>\n",
       "    </tr>\n",
       "    <tr>\n",
       "      <th>8</th>\n",
       "      <td>49</td>\n",
       "      <td>-0.438</td>\n",
       "      <td>-0.32</td>\n",
       "      <td>0.087</td>\n",
       "    </tr>\n",
       "    <tr>\n",
       "      <th>9</th>\n",
       "      <td>48</td>\n",
       "      <td>-0.495</td>\n",
       "      <td>-0.40</td>\n",
       "      <td>0.077</td>\n",
       "    </tr>\n",
       "    <tr>\n",
       "      <th>10</th>\n",
       "      <td>62</td>\n",
       "      <td>0.304</td>\n",
       "      <td>0.72</td>\n",
       "      <td>0.212</td>\n",
       "    </tr>\n",
       "    <tr>\n",
       "      <th>11</th>\n",
       "      <td>67</td>\n",
       "      <td>0.589</td>\n",
       "      <td>1.12</td>\n",
       "      <td>0.260</td>\n",
       "    </tr>\n",
       "    <tr>\n",
       "      <th>12</th>\n",
       "      <td>45</td>\n",
       "      <td>-0.666</td>\n",
       "      <td>-0.64</td>\n",
       "      <td>0.048</td>\n",
       "    </tr>\n",
       "    <tr>\n",
       "      <th>13</th>\n",
       "      <td>48</td>\n",
       "      <td>-0.495</td>\n",
       "      <td>-0.40</td>\n",
       "      <td>0.077</td>\n",
       "    </tr>\n",
       "    <tr>\n",
       "      <th>14</th>\n",
       "      <td>50</td>\n",
       "      <td>-0.381</td>\n",
       "      <td>-0.24</td>\n",
       "      <td>0.096</td>\n",
       "    </tr>\n",
       "    <tr>\n",
       "      <th>15</th>\n",
       "      <td>59</td>\n",
       "      <td>0.132</td>\n",
       "      <td>0.48</td>\n",
       "      <td>0.183</td>\n",
       "    </tr>\n",
       "    <tr>\n",
       "      <th>16</th>\n",
       "      <td>53</td>\n",
       "      <td>-0.210</td>\n",
       "      <td>0.00</td>\n",
       "      <td>0.125</td>\n",
       "    </tr>\n",
       "    <tr>\n",
       "      <th>17</th>\n",
       "      <td>47</td>\n",
       "      <td>-0.552</td>\n",
       "      <td>-0.48</td>\n",
       "      <td>0.067</td>\n",
       "    </tr>\n",
       "    <tr>\n",
       "      <th>18</th>\n",
       "      <td>64</td>\n",
       "      <td>0.418</td>\n",
       "      <td>0.88</td>\n",
       "      <td>0.231</td>\n",
       "    </tr>\n",
       "    <tr>\n",
       "      <th>19</th>\n",
       "      <td>57</td>\n",
       "      <td>0.018</td>\n",
       "      <td>0.32</td>\n",
       "      <td>0.163</td>\n",
       "    </tr>\n",
       "    <tr>\n",
       "      <th>20</th>\n",
       "      <td>48</td>\n",
       "      <td>-0.495</td>\n",
       "      <td>-0.40</td>\n",
       "      <td>0.077</td>\n",
       "    </tr>\n",
       "    <tr>\n",
       "      <th>21</th>\n",
       "      <td>51</td>\n",
       "      <td>-0.324</td>\n",
       "      <td>-0.16</td>\n",
       "      <td>0.106</td>\n",
       "    </tr>\n",
       "    <tr>\n",
       "      <th>22</th>\n",
       "      <td>62</td>\n",
       "      <td>0.304</td>\n",
       "      <td>0.72</td>\n",
       "      <td>0.212</td>\n",
       "    </tr>\n",
       "    <tr>\n",
       "      <th>23</th>\n",
       "      <td>62</td>\n",
       "      <td>0.304</td>\n",
       "      <td>0.72</td>\n",
       "      <td>0.212</td>\n",
       "    </tr>\n",
       "    <tr>\n",
       "      <th>24</th>\n",
       "      <td>52</td>\n",
       "      <td>-0.267</td>\n",
       "      <td>-0.08</td>\n",
       "      <td>0.115</td>\n",
       "    </tr>\n",
       "    <tr>\n",
       "      <th>25</th>\n",
       "      <td>58</td>\n",
       "      <td>0.075</td>\n",
       "      <td>0.40</td>\n",
       "      <td>0.173</td>\n",
       "    </tr>\n",
       "    <tr>\n",
       "      <th>26</th>\n",
       "      <td>70</td>\n",
       "      <td>0.760</td>\n",
       "      <td>1.36</td>\n",
       "      <td>0.288</td>\n",
       "    </tr>\n",
       "    <tr>\n",
       "      <th>27</th>\n",
       "      <td>58</td>\n",
       "      <td>0.075</td>\n",
       "      <td>0.40</td>\n",
       "      <td>0.173</td>\n",
       "    </tr>\n",
       "    <tr>\n",
       "      <th>28</th>\n",
       "      <td>144</td>\n",
       "      <td>4.981</td>\n",
       "      <td>7.28</td>\n",
       "      <td>1.000</td>\n",
       "    </tr>\n",
       "    <tr>\n",
       "      <th>29</th>\n",
       "      <td>63</td>\n",
       "      <td>0.361</td>\n",
       "      <td>0.80</td>\n",
       "      <td>0.221</td>\n",
       "    </tr>\n",
       "    <tr>\n",
       "      <th>30</th>\n",
       "      <td>56</td>\n",
       "      <td>-0.039</td>\n",
       "      <td>0.24</td>\n",
       "      <td>0.154</td>\n",
       "    </tr>\n",
       "  </tbody>\n",
       "</table>\n",
       "</div>"
      ],
      "text/plain": [
       "    Raw  Scale  Robust  MinMax\n",
       "0    40 -0.951   -1.04   0.000\n",
       "1    48 -0.495   -0.40   0.077\n",
       "2    45 -0.666   -0.64   0.048\n",
       "3    48 -0.495   -0.40   0.077\n",
       "4    44 -0.723   -0.72   0.038\n",
       "5    55 -0.096    0.16   0.144\n",
       "6    56 -0.039    0.24   0.154\n",
       "7    48 -0.495   -0.40   0.077\n",
       "8    49 -0.438   -0.32   0.087\n",
       "9    48 -0.495   -0.40   0.077\n",
       "10   62  0.304    0.72   0.212\n",
       "11   67  0.589    1.12   0.260\n",
       "12   45 -0.666   -0.64   0.048\n",
       "13   48 -0.495   -0.40   0.077\n",
       "14   50 -0.381   -0.24   0.096\n",
       "15   59  0.132    0.48   0.183\n",
       "16   53 -0.210    0.00   0.125\n",
       "17   47 -0.552   -0.48   0.067\n",
       "18   64  0.418    0.88   0.231\n",
       "19   57  0.018    0.32   0.163\n",
       "20   48 -0.495   -0.40   0.077\n",
       "21   51 -0.324   -0.16   0.106\n",
       "22   62  0.304    0.72   0.212\n",
       "23   62  0.304    0.72   0.212\n",
       "24   52 -0.267   -0.08   0.115\n",
       "25   58  0.075    0.40   0.173\n",
       "26   70  0.760    1.36   0.288\n",
       "27   58  0.075    0.40   0.173\n",
       "28  144  4.981    7.28   1.000\n",
       "29   63  0.361    0.80   0.221\n",
       "30   56 -0.039    0.24   0.154"
      ]
     },
     "execution_count": 158,
     "metadata": {},
     "output_type": "execute_result"
    }
   ],
   "source": [
    "ds_rstpulse = pd.DataFrame()\n",
    "ds_rstpulse[\"Raw\"] = ds_fitness[\"RSTPULSE\"]\n",
    "ds_rstpulse[\"Scale\"] = ds_scale[\"RSTPULSE\"]\n",
    "ds_rstpulse[\"Robust\"] = ds_robust_scale[\"RSTPULSE\"]\n",
    "ds_rstpulse[\"MinMax\"] = ds_minmax_scale[\"RSTPULSE\"]\n",
    "ds_rstpulse.round(3)"
   ]
  },
  {
   "cell_type": "markdown",
   "metadata": {},
   "source": [
    "### 4. Processing and find missing value ###"
   ]
  },
  {
   "cell_type": "code",
   "execution_count": 159,
   "metadata": {},
   "outputs": [
    {
     "data": {
      "text/plain": [
       "<matplotlib.axes._subplots.AxesSubplot at 0x7f8d76afb080>"
      ]
     },
     "execution_count": 159,
     "metadata": {},
     "output_type": "execute_result"
    },
    {
     "data": {
      "image/png": "[encoded data removed]",
      "text/plain": [
       "<Figure size 720x288 with 1 Axes>"
      ]
     },
     "metadata": {
      "needs_background": "light"
     },
     "output_type": "display_data"
    }
   ],
   "source": [
    "ds_fitness.boxplot(figsize = (10,4))"
   ]
  },
  {
   "cell_type": "code",
   "execution_count": 160,
   "metadata": {},
   "outputs": [
    {
     "data": {
      "text/plain": [
       "0     False\n",
       "1     False\n",
       "2     False\n",
       "3     False\n",
       "4     False\n",
       "5     False\n",
       "6     False\n",
       "7     False\n",
       "8     False\n",
       "9     False\n",
       "10    False\n",
       "11    False\n",
       "12    False\n",
       "13    False\n",
       "14    False\n",
       "15    False\n",
       "16    False\n",
       "17    False\n",
       "18    False\n",
       "19    False\n",
       "20    False\n",
       "21    False\n",
       "22    False\n",
       "23    False\n",
       "24    False\n",
       "25    False\n",
       "26    False\n",
       "27    False\n",
       "28     True\n",
       "29    False\n",
       "30    False\n",
       "Name: RSTPULSE, dtype: bool"
      ]
     },
     "execution_count": 160,
     "metadata": {},
     "output_type": "execute_result"
    }
   ],
   "source": [
    "ds_fitness[\"RSTPULSE\"]>=100"
   ]
  },
  {
   "cell_type": "code",
   "execution_count": 161,
   "metadata": {},
   "outputs": [
    {
     "data": {
      "text/html": [
       "<div>\n",
       "<style scoped>\n",
       "    .dataframe tbody tr th:only-of-type {\n",
       "        vertical-align: middle;\n",
       "    }\n",
       "\n",
       "    .dataframe tbody tr th {\n",
       "        vertical-align: top;\n",
       "    }\n",
       "\n",
       "    .dataframe thead th {\n",
       "        text-align: right;\n",
       "    }\n",
       "</style>\n",
       "<table border=\"1\" class=\"dataframe\">\n",
       "  <thead>\n",
       "    <tr style=\"text-align: right;\">\n",
       "      <th></th>\n",
       "      <th>NAME</th>\n",
       "      <th>GENDER</th>\n",
       "      <th>AGE</th>\n",
       "      <th>AGEGROUP</th>\n",
       "      <th>WEIGHT</th>\n",
       "      <th>OXY</th>\n",
       "      <th>RUNTIME</th>\n",
       "      <th>RUNPULSE</th>\n",
       "      <th>RSTPULSE</th>\n",
       "      <th>MAXPULSE</th>\n",
       "    </tr>\n",
       "  </thead>\n",
       "  <tbody>\n",
       "    <tr>\n",
       "      <th>0</th>\n",
       "      <td>Donna</td>\n",
       "      <td>여성</td>\n",
       "      <td>42</td>\n",
       "      <td>40대</td>\n",
       "      <td>68.150</td>\n",
       "      <td>59.571</td>\n",
       "      <td>8.17</td>\n",
       "      <td>166</td>\n",
       "      <td>40</td>\n",
       "      <td>172</td>\n",
       "    </tr>\n",
       "    <tr>\n",
       "      <th>1</th>\n",
       "      <td>Gracie</td>\n",
       "      <td>여성</td>\n",
       "      <td>38</td>\n",
       "      <td>30대</td>\n",
       "      <td>81.870</td>\n",
       "      <td>60.055</td>\n",
       "      <td>8.63</td>\n",
       "      <td>170</td>\n",
       "      <td>48</td>\n",
       "      <td>186</td>\n",
       "    </tr>\n",
       "    <tr>\n",
       "      <th>2</th>\n",
       "      <td>Luanne</td>\n",
       "      <td>여성</td>\n",
       "      <td>43</td>\n",
       "      <td>40대</td>\n",
       "      <td>85.840</td>\n",
       "      <td>54.297</td>\n",
       "      <td>8.65</td>\n",
       "      <td>156</td>\n",
       "      <td>45</td>\n",
       "      <td>168</td>\n",
       "    </tr>\n",
       "    <tr>\n",
       "      <th>3</th>\n",
       "      <td>Mimi</td>\n",
       "      <td>여성</td>\n",
       "      <td>50</td>\n",
       "      <td>50대</td>\n",
       "      <td>70.870</td>\n",
       "      <td>54.625</td>\n",
       "      <td>8.92</td>\n",
       "      <td>146</td>\n",
       "      <td>48</td>\n",
       "      <td>155</td>\n",
       "    </tr>\n",
       "    <tr>\n",
       "      <th>4</th>\n",
       "      <td>Chris</td>\n",
       "      <td>남성</td>\n",
       "      <td>49</td>\n",
       "      <td>40대</td>\n",
       "      <td>82.433</td>\n",
       "      <td>49.156</td>\n",
       "      <td>8.95</td>\n",
       "      <td>180</td>\n",
       "      <td>44</td>\n",
       "      <td>185</td>\n",
       "    </tr>\n",
       "    <tr>\n",
       "      <th>5</th>\n",
       "      <td>Allen</td>\n",
       "      <td>남성</td>\n",
       "      <td>38</td>\n",
       "      <td>30대</td>\n",
       "      <td>89.020</td>\n",
       "      <td>49.874</td>\n",
       "      <td>9.22</td>\n",
       "      <td>178</td>\n",
       "      <td>55</td>\n",
       "      <td>180</td>\n",
       "    </tr>\n",
       "    <tr>\n",
       "      <th>6</th>\n",
       "      <td>Nancy</td>\n",
       "      <td>여성</td>\n",
       "      <td>49</td>\n",
       "      <td>40대</td>\n",
       "      <td>76.320</td>\n",
       "      <td>48.673</td>\n",
       "      <td>9.40</td>\n",
       "      <td>186</td>\n",
       "      <td>56</td>\n",
       "      <td>188</td>\n",
       "    </tr>\n",
       "    <tr>\n",
       "      <th>7</th>\n",
       "      <td>Patty</td>\n",
       "      <td>여성</td>\n",
       "      <td>52</td>\n",
       "      <td>50대</td>\n",
       "      <td>76.320</td>\n",
       "      <td>45.441</td>\n",
       "      <td>9.63</td>\n",
       "      <td>164</td>\n",
       "      <td>48</td>\n",
       "      <td>166</td>\n",
       "    </tr>\n",
       "    <tr>\n",
       "      <th>8</th>\n",
       "      <td>Suzanne</td>\n",
       "      <td>여성</td>\n",
       "      <td>57</td>\n",
       "      <td>50대</td>\n",
       "      <td>59.080</td>\n",
       "      <td>50.545</td>\n",
       "      <td>9.93</td>\n",
       "      <td>148</td>\n",
       "      <td>49</td>\n",
       "      <td>155</td>\n",
       "    </tr>\n",
       "    <tr>\n",
       "      <th>9</th>\n",
       "      <td>Teresa</td>\n",
       "      <td>여성</td>\n",
       "      <td>51</td>\n",
       "      <td>50대</td>\n",
       "      <td>77.910</td>\n",
       "      <td>46.672</td>\n",
       "      <td>10.00</td>\n",
       "      <td>162</td>\n",
       "      <td>48</td>\n",
       "      <td>168</td>\n",
       "    </tr>\n",
       "    <tr>\n",
       "      <th>10</th>\n",
       "      <td>Bob</td>\n",
       "      <td>남성</td>\n",
       "      <td>39</td>\n",
       "      <td>30대</td>\n",
       "      <td>75.070</td>\n",
       "      <td>45.313</td>\n",
       "      <td>10.07</td>\n",
       "      <td>185</td>\n",
       "      <td>62</td>\n",
       "      <td>185</td>\n",
       "    </tr>\n",
       "    <tr>\n",
       "      <th>11</th>\n",
       "      <td>Harriett</td>\n",
       "      <td>여성</td>\n",
       "      <td>49</td>\n",
       "      <td>40대</td>\n",
       "      <td>73.370</td>\n",
       "      <td>50.388</td>\n",
       "      <td>10.08</td>\n",
       "      <td>168</td>\n",
       "      <td>67</td>\n",
       "      <td>168</td>\n",
       "    </tr>\n",
       "    <tr>\n",
       "      <th>12</th>\n",
       "      <td>Jane</td>\n",
       "      <td>여성</td>\n",
       "      <td>44</td>\n",
       "      <td>40대</td>\n",
       "      <td>73.030</td>\n",
       "      <td>50.541</td>\n",
       "      <td>10.13</td>\n",
       "      <td>168</td>\n",
       "      <td>45</td>\n",
       "      <td>168</td>\n",
       "    </tr>\n",
       "    <tr>\n",
       "      <th>13</th>\n",
       "      <td>Harold</td>\n",
       "      <td>남성</td>\n",
       "      <td>48</td>\n",
       "      <td>40대</td>\n",
       "      <td>91.630</td>\n",
       "      <td>46.774</td>\n",
       "      <td>10.25</td>\n",
       "      <td>162</td>\n",
       "      <td>48</td>\n",
       "      <td>164</td>\n",
       "    </tr>\n",
       "    <tr>\n",
       "      <th>14</th>\n",
       "      <td>Sammy</td>\n",
       "      <td>남성</td>\n",
       "      <td>54</td>\n",
       "      <td>50대</td>\n",
       "      <td>83.120</td>\n",
       "      <td>51.855</td>\n",
       "      <td>10.33</td>\n",
       "      <td>166</td>\n",
       "      <td>50</td>\n",
       "      <td>170</td>\n",
       "    </tr>\n",
       "    <tr>\n",
       "      <th>15</th>\n",
       "      <td>Buffy</td>\n",
       "      <td>여성</td>\n",
       "      <td>52</td>\n",
       "      <td>50대</td>\n",
       "      <td>73.710</td>\n",
       "      <td>45.790</td>\n",
       "      <td>10.47</td>\n",
       "      <td>186</td>\n",
       "      <td>59</td>\n",
       "      <td>188</td>\n",
       "    </tr>\n",
       "    <tr>\n",
       "      <th>16</th>\n",
       "      <td>Trent</td>\n",
       "      <td>남성</td>\n",
       "      <td>38</td>\n",
       "      <td>30대</td>\n",
       "      <td>82.780</td>\n",
       "      <td>47.467</td>\n",
       "      <td>10.50</td>\n",
       "      <td>170</td>\n",
       "      <td>53</td>\n",
       "      <td>172</td>\n",
       "    </tr>\n",
       "    <tr>\n",
       "      <th>17</th>\n",
       "      <td>Jackie</td>\n",
       "      <td>여성</td>\n",
       "      <td>47</td>\n",
       "      <td>40대</td>\n",
       "      <td>79.150</td>\n",
       "      <td>47.273</td>\n",
       "      <td>10.60</td>\n",
       "      <td>162</td>\n",
       "      <td>47</td>\n",
       "      <td>164</td>\n",
       "    </tr>\n",
       "    <tr>\n",
       "      <th>18</th>\n",
       "      <td>Ralph</td>\n",
       "      <td>남성</td>\n",
       "      <td>43</td>\n",
       "      <td>40대</td>\n",
       "      <td>82.433</td>\n",
       "      <td>49.091</td>\n",
       "      <td>10.85</td>\n",
       "      <td>162</td>\n",
       "      <td>64</td>\n",
       "      <td>170</td>\n",
       "    </tr>\n",
       "    <tr>\n",
       "      <th>19</th>\n",
       "      <td>Jack</td>\n",
       "      <td>남성</td>\n",
       "      <td>51</td>\n",
       "      <td>50대</td>\n",
       "      <td>69.630</td>\n",
       "      <td>40.836</td>\n",
       "      <td>10.95</td>\n",
       "      <td>168</td>\n",
       "      <td>57</td>\n",
       "      <td>172</td>\n",
       "    </tr>\n",
       "    <tr>\n",
       "      <th>20</th>\n",
       "      <td>Annie</td>\n",
       "      <td>여성</td>\n",
       "      <td>51</td>\n",
       "      <td>50대</td>\n",
       "      <td>67.250</td>\n",
       "      <td>45.118</td>\n",
       "      <td>11.08</td>\n",
       "      <td>172</td>\n",
       "      <td>48</td>\n",
       "      <td>172</td>\n",
       "    </tr>\n",
       "    <tr>\n",
       "      <th>21</th>\n",
       "      <td>Kate</td>\n",
       "      <td>여성</td>\n",
       "      <td>45</td>\n",
       "      <td>40대</td>\n",
       "      <td>66.450</td>\n",
       "      <td>44.754</td>\n",
       "      <td>11.12</td>\n",
       "      <td>176</td>\n",
       "      <td>51</td>\n",
       "      <td>176</td>\n",
       "    </tr>\n",
       "    <tr>\n",
       "      <th>22</th>\n",
       "      <td>Carl</td>\n",
       "      <td>남성</td>\n",
       "      <td>54</td>\n",
       "      <td>50대</td>\n",
       "      <td>79.380</td>\n",
       "      <td>46.080</td>\n",
       "      <td>11.17</td>\n",
       "      <td>156</td>\n",
       "      <td>62</td>\n",
       "      <td>165</td>\n",
       "    </tr>\n",
       "    <tr>\n",
       "      <th>23</th>\n",
       "      <td>Don</td>\n",
       "      <td>남성</td>\n",
       "      <td>44</td>\n",
       "      <td>40대</td>\n",
       "      <td>89.470</td>\n",
       "      <td>44.609</td>\n",
       "      <td>11.37</td>\n",
       "      <td>178</td>\n",
       "      <td>62</td>\n",
       "      <td>182</td>\n",
       "    </tr>\n",
       "    <tr>\n",
       "      <th>24</th>\n",
       "      <td>Effie</td>\n",
       "      <td>여성</td>\n",
       "      <td>48</td>\n",
       "      <td>40대</td>\n",
       "      <td>61.240</td>\n",
       "      <td>47.920</td>\n",
       "      <td>11.50</td>\n",
       "      <td>170</td>\n",
       "      <td>52</td>\n",
       "      <td>176</td>\n",
       "    </tr>\n",
       "    <tr>\n",
       "      <th>25</th>\n",
       "      <td>George</td>\n",
       "      <td>남성</td>\n",
       "      <td>37</td>\n",
       "      <td>30대</td>\n",
       "      <td>77.450</td>\n",
       "      <td>44.811</td>\n",
       "      <td>11.63</td>\n",
       "      <td>176</td>\n",
       "      <td>58</td>\n",
       "      <td>176</td>\n",
       "    </tr>\n",
       "    <tr>\n",
       "      <th>26</th>\n",
       "      <td>Iris</td>\n",
       "      <td>여성</td>\n",
       "      <td>39</td>\n",
       "      <td>30대</td>\n",
       "      <td>75.980</td>\n",
       "      <td>45.681</td>\n",
       "      <td>11.95</td>\n",
       "      <td>176</td>\n",
       "      <td>70</td>\n",
       "      <td>180</td>\n",
       "    </tr>\n",
       "    <tr>\n",
       "      <th>27</th>\n",
       "      <td>Mark</td>\n",
       "      <td>남성</td>\n",
       "      <td>57</td>\n",
       "      <td>50대</td>\n",
       "      <td>73.370</td>\n",
       "      <td>39.407</td>\n",
       "      <td>12.63</td>\n",
       "      <td>174</td>\n",
       "      <td>58</td>\n",
       "      <td>176</td>\n",
       "    </tr>\n",
       "    <tr>\n",
       "      <th>29</th>\n",
       "      <td>Vaughn</td>\n",
       "      <td>남성</td>\n",
       "      <td>44</td>\n",
       "      <td>40대</td>\n",
       "      <td>81.420</td>\n",
       "      <td>39.442</td>\n",
       "      <td>13.08</td>\n",
       "      <td>174</td>\n",
       "      <td>63</td>\n",
       "      <td>176</td>\n",
       "    </tr>\n",
       "    <tr>\n",
       "      <th>30</th>\n",
       "      <td>William</td>\n",
       "      <td>남성</td>\n",
       "      <td>45</td>\n",
       "      <td>40대</td>\n",
       "      <td>87.660</td>\n",
       "      <td>37.388</td>\n",
       "      <td>14.03</td>\n",
       "      <td>186</td>\n",
       "      <td>56</td>\n",
       "      <td>192</td>\n",
       "    </tr>\n",
       "  </tbody>\n",
       "</table>\n",
       "</div>"
      ],
      "text/plain": [
       "        NAME GENDER  AGE AGEGROUP  WEIGHT     OXY  RUNTIME  RUNPULSE  \\\n",
       "0      Donna     여성   42      40대  68.150  59.571     8.17       166   \n",
       "1     Gracie     여성   38      30대  81.870  60.055     8.63       170   \n",
       "2     Luanne     여성   43      40대  85.840  54.297     8.65       156   \n",
       "3       Mimi     여성   50      50대  70.870  54.625     8.92       146   \n",
       "4      Chris     남성   49      40대  82.433  49.156     8.95       180   \n",
       "5      Allen     남성   38      30대  89.020  49.874     9.22       178   \n",
       "6      Nancy     여성   49      40대  76.320  48.673     9.40       186   \n",
       "7      Patty     여성   52      50대  76.320  45.441     9.63       164   \n",
       "8    Suzanne     여성   57      50대  59.080  50.545     9.93       148   \n",
       "9     Teresa     여성   51      50대  77.910  46.672    10.00       162   \n",
       "10       Bob     남성   39      30대  75.070  45.313    10.07       185   \n",
       "11  Harriett     여성   49      40대  73.370  50.388    10.08       168   \n",
       "12      Jane     여성   44      40대  73.030  50.541    10.13       168   \n",
       "13    Harold     남성   48      40대  91.630  46.774    10.25       162   \n",
       "14     Sammy     남성   54      50대  83.120  51.855    10.33       166   \n",
       "15     Buffy     여성   52      50대  73.710  45.790    10.47       186   \n",
       "16     Trent     남성   38      30대  82.780  47.467    10.50       170   \n",
       "17    Jackie     여성   47      40대  79.150  47.273    10.60       162   \n",
       "18     Ralph     남성   43      40대  82.433  49.091    10.85       162   \n",
       "19      Jack     남성   51      50대  69.630  40.836    10.95       168   \n",
       "20     Annie     여성   51      50대  67.250  45.118    11.08       172   \n",
       "21      Kate     여성   45      40대  66.450  44.754    11.12       176   \n",
       "22      Carl     남성   54      50대  79.380  46.080    11.17       156   \n",
       "23       Don     남성   44      40대  89.470  44.609    11.37       178   \n",
       "24     Effie     여성   48      40대  61.240  47.920    11.50       170   \n",
       "25    George     남성   37      30대  77.450  44.811    11.63       176   \n",
       "26      Iris     여성   39      30대  75.980  45.681    11.95       176   \n",
       "27      Mark     남성   57      50대  73.370  39.407    12.63       174   \n",
       "29    Vaughn     남성   44      40대  81.420  39.442    13.08       174   \n",
       "30   William     남성   45      40대  87.660  37.388    14.03       186   \n",
       "\n",
       "    RSTPULSE  MAXPULSE  \n",
       "0         40       172  \n",
       "1         48       186  \n",
       "2         45       168  \n",
       "3         48       155  \n",
       "4         44       185  \n",
       "5         55       180  \n",
       "6         56       188  \n",
       "7         48       166  \n",
       "8         49       155  \n",
       "9         48       168  \n",
       "10        62       185  \n",
       "11        67       168  \n",
       "12        45       168  \n",
       "13        48       164  \n",
       "14        50       170  \n",
       "15        59       188  \n",
       "16        53       172  \n",
       "17        47       164  \n",
       "18        64       170  \n",
       "19        57       172  \n",
       "20        48       172  \n",
       "21        51       176  \n",
       "22        62       165  \n",
       "23        62       182  \n",
       "24        52       176  \n",
       "25        58       176  \n",
       "26        70       180  \n",
       "27        58       176  \n",
       "29        63       176  \n",
       "30        56       192  "
      ]
     },
     "execution_count": 161,
     "metadata": {},
     "output_type": "execute_result"
    }
   ],
   "source": [
    "ds_fitness = ds_fitness[ds_fitness[\"RSTPULSE\"]<100]\n",
    "ds_fitness"
   ]
  },
  {
   "cell_type": "markdown",
   "metadata": {},
   "source": [
    "## 탐색적 분석-그래프 ##"
   ]
  },
  {
   "cell_type": "code",
   "execution_count": 162,
   "metadata": {},
   "outputs": [],
   "source": [
    "import numpy as np\n",
    "import pandas as pd\n",
    "import seaborn as sns\n",
    "import matplotlib\n",
    "import matplotlib.pyplot as plt"
   ]
  },
  {
   "cell_type": "markdown",
   "metadata": {},
   "source": [
    "### Font setting ###"
   ]
  },
  {
   "cell_type": "code",
   "execution_count": 163,
   "metadata": {},
   "outputs": [
    {
     "name": "stdout",
     "output_type": "stream",
     "text": [
      "['NanumBarunGothic']\n"
     ]
    }
   ],
   "source": [
    "import matplotlib.font_manager as fm\n",
    "for f in fm.fontManager.ttflist:\n",
    "    if 'NanumBarunGothic' in f.fname: \n",
    "        plt.rcParams['font.family']='NanumBarunGothic'\n",
    "    # 폰트 나눔고딕으로\n",
    "\n",
    "print(plt.rcParams['font.family'])\n",
    "\n",
    "matplotlib.rcParams['axes.unicode_minus'] = False # '-'기호 제대로 나오게"
   ]
  },
  {
   "cell_type": "markdown",
   "metadata": {},
   "source": [
    "### Import Data ###"
   ]
  },
  {
   "cell_type": "code",
   "execution_count": 164,
   "metadata": {},
   "outputs": [
    {
     "data": {
      "text/html": [
       "<div>\n",
       "<style scoped>\n",
       "    .dataframe tbody tr th:only-of-type {\n",
       "        vertical-align: middle;\n",
       "    }\n",
       "\n",
       "    .dataframe tbody tr th {\n",
       "        vertical-align: top;\n",
       "    }\n",
       "\n",
       "    .dataframe thead th {\n",
       "        text-align: right;\n",
       "    }\n",
       "</style>\n",
       "<table border=\"1\" class=\"dataframe\">\n",
       "  <thead>\n",
       "    <tr style=\"text-align: right;\">\n",
       "      <th></th>\n",
       "      <th>NAME</th>\n",
       "      <th>GENDER</th>\n",
       "      <th>AGE</th>\n",
       "      <th>AGEGROUP</th>\n",
       "      <th>WEIGHT</th>\n",
       "      <th>OXY</th>\n",
       "      <th>RUNTIME</th>\n",
       "      <th>RUNPULSE</th>\n",
       "      <th>RSTPULSE</th>\n",
       "      <th>MAXPULSE</th>\n",
       "    </tr>\n",
       "  </thead>\n",
       "  <tbody>\n",
       "    <tr>\n",
       "      <th>0</th>\n",
       "      <td>Donna</td>\n",
       "      <td>여성</td>\n",
       "      <td>42</td>\n",
       "      <td>40대</td>\n",
       "      <td>68.15</td>\n",
       "      <td>59.571</td>\n",
       "      <td>8.17</td>\n",
       "      <td>166</td>\n",
       "      <td>40</td>\n",
       "      <td>172</td>\n",
       "    </tr>\n",
       "    <tr>\n",
       "      <th>1</th>\n",
       "      <td>Gracie</td>\n",
       "      <td>NaN</td>\n",
       "      <td>38</td>\n",
       "      <td>30대</td>\n",
       "      <td>81.87</td>\n",
       "      <td>60.055</td>\n",
       "      <td>8.63</td>\n",
       "      <td>170</td>\n",
       "      <td>48</td>\n",
       "      <td>186</td>\n",
       "    </tr>\n",
       "    <tr>\n",
       "      <th>2</th>\n",
       "      <td>Luanne</td>\n",
       "      <td>여성</td>\n",
       "      <td>43</td>\n",
       "      <td>40대</td>\n",
       "      <td>85.84</td>\n",
       "      <td>54.297</td>\n",
       "      <td>8.65</td>\n",
       "      <td>156</td>\n",
       "      <td>45</td>\n",
       "      <td>168</td>\n",
       "    </tr>\n",
       "    <tr>\n",
       "      <th>3</th>\n",
       "      <td>Mimi</td>\n",
       "      <td>여성</td>\n",
       "      <td>50</td>\n",
       "      <td>50대</td>\n",
       "      <td>70.87</td>\n",
       "      <td>54.625</td>\n",
       "      <td>8.92</td>\n",
       "      <td>146</td>\n",
       "      <td>48</td>\n",
       "      <td>155</td>\n",
       "    </tr>\n",
       "    <tr>\n",
       "      <th>4</th>\n",
       "      <td>Chris</td>\n",
       "      <td>남성</td>\n",
       "      <td>49</td>\n",
       "      <td>40대</td>\n",
       "      <td>NaN</td>\n",
       "      <td>49.156</td>\n",
       "      <td>8.95</td>\n",
       "      <td>180</td>\n",
       "      <td>44</td>\n",
       "      <td>185</td>\n",
       "    </tr>\n",
       "  </tbody>\n",
       "</table>\n",
       "</div>"
      ],
      "text/plain": [
       "     NAME GENDER  AGE AGEGROUP  WEIGHT     OXY  RUNTIME  RUNPULSE  RSTPULSE  \\\n",
       "0   Donna     여성   42      40대   68.15  59.571     8.17       166        40   \n",
       "1  Gracie    NaN   38      30대   81.87  60.055     8.63       170        48   \n",
       "2  Luanne     여성   43      40대   85.84  54.297     8.65       156        45   \n",
       "3    Mimi     여성   50      50대   70.87  54.625     8.92       146        48   \n",
       "4   Chris     남성   49      40대     NaN  49.156     8.95       180        44   \n",
       "\n",
       "   MAXPULSE  \n",
       "0       172  \n",
       "1       186  \n",
       "2       168  \n",
       "3       155  \n",
       "4       185  "
      ]
     },
     "execution_count": 164,
     "metadata": {},
     "output_type": "execute_result"
    }
   ],
   "source": [
    "ds_fitness = pd.read_csv('실습파일/FITNESS.csv', engine = 'python', encoding ='EUC-KR')\n",
    "ds_fitness.head()"
   ]
  },
  {
   "cell_type": "code",
   "execution_count": 27,
   "metadata": {},
   "outputs": [
    {
     "data": {
      "text/html": [
       "<div>\n",
       "<style scoped>\n",
       "    .dataframe tbody tr th:only-of-type {\n",
       "        vertical-align: middle;\n",
       "    }\n",
       "\n",
       "    .dataframe tbody tr th {\n",
       "        vertical-align: top;\n",
       "    }\n",
       "\n",
       "    .dataframe thead th {\n",
       "        text-align: right;\n",
       "    }\n",
       "</style>\n",
       "<table border=\"1\" class=\"dataframe\">\n",
       "  <thead>\n",
       "    <tr style=\"text-align: right;\">\n",
       "      <th></th>\n",
       "      <th>CURRENCY</th>\n",
       "      <th>APPL_DATE</th>\n",
       "      <th>STD_RATE</th>\n",
       "      <th>USD_CONV_DATE</th>\n",
       "    </tr>\n",
       "  </thead>\n",
       "  <tbody>\n",
       "    <tr>\n",
       "      <th>0</th>\n",
       "      <td>CNY</td>\n",
       "      <td>2016-01-01</td>\n",
       "      <td>181.48</td>\n",
       "      <td>0.1541</td>\n",
       "    </tr>\n",
       "    <tr>\n",
       "      <th>1</th>\n",
       "      <td>JPY</td>\n",
       "      <td>2016-01-01</td>\n",
       "      <td>976.99</td>\n",
       "      <td>0.8294</td>\n",
       "    </tr>\n",
       "    <tr>\n",
       "      <th>2</th>\n",
       "      <td>USD</td>\n",
       "      <td>2016-01-01</td>\n",
       "      <td>1178.00</td>\n",
       "      <td>1.0000</td>\n",
       "    </tr>\n",
       "    <tr>\n",
       "      <th>3</th>\n",
       "      <td>CNY</td>\n",
       "      <td>2016-01-02</td>\n",
       "      <td>181.48</td>\n",
       "      <td>0.1541</td>\n",
       "    </tr>\n",
       "    <tr>\n",
       "      <th>4</th>\n",
       "      <td>JPY</td>\n",
       "      <td>2016-01-02</td>\n",
       "      <td>976.99</td>\n",
       "      <td>0.8294</td>\n",
       "    </tr>\n",
       "  </tbody>\n",
       "</table>\n",
       "</div>"
      ],
      "text/plain": [
       "  CURRENCY  APPL_DATE  STD_RATE  USD_CONV_DATE\n",
       "0      CNY 2016-01-01    181.48         0.1541\n",
       "1      JPY 2016-01-01    976.99         0.8294\n",
       "2      USD 2016-01-01   1178.00         1.0000\n",
       "3      CNY 2016-01-02    181.48         0.1541\n",
       "4      JPY 2016-01-02    976.99         0.8294"
      ]
     },
     "execution_count": 27,
     "metadata": {},
     "output_type": "execute_result"
    }
   ],
   "source": [
    "ds_currency = pd.read_csv('실습파일/환율.csv', engine = 'python', encoding ='EUC-KR', parse_dates =[\"APPL_DATE\"])\n",
    "ds_currency.head()"
   ]
  },
  {
   "cell_type": "markdown",
   "metadata": {},
   "source": [
    "### 그래프 분석_bar chart ###"
   ]
  },
  {
   "cell_type": "code",
   "execution_count": 41,
   "metadata": {},
   "outputs": [
    {
     "data": {
      "text/plain": [
       "<matplotlib.axes._subplots.AxesSubplot at 0x7f8d7777c9b0>"
      ]
     },
     "execution_count": 41,
     "metadata": {},
     "output_type": "execute_result"
    },
    {
     "data": {
      "image/png": "[encoded data removed]",
      "text/plain": [
       "<Figure size 432x288 with 1 Axes>"
      ]
     },
     "metadata": {
      "needs_background": "light"
     },
     "output_type": "display_data"
    }
   ],
   "source": [
    "ds_agg = ds_fitness[\"AGEGROUP\"].value_counts().sort_values()\n",
    "ds_agg.plot.bar()"
   ]
  },
  {
   "cell_type": "code",
   "execution_count": 32,
   "metadata": {},
   "outputs": [
    {
     "data": {
      "text/plain": [
       "<matplotlib.axes._subplots.AxesSubplot at 0x7f8d7793e160>"
      ]
     },
     "execution_count": 32,
     "metadata": {},
     "output_type": "execute_result"
    },
    {
     "data": {
      "image/png": "[encoded data removed]",
      "text/plain": [
       "<Figure size 432x288 with 1 Axes>"
      ]
     },
     "metadata": {
      "needs_background": "light"
     },
     "output_type": "display_data"
    }
   ],
   "source": [
    "ds_agg = ds_fitness[\"AGEGROUP\"].value_counts()\n",
    "ds_agg.sort_index(inplace = True, ascending= True)\n",
    "ds_agg.plot.bar()"
   ]
  },
  {
   "cell_type": "code",
   "execution_count": 33,
   "metadata": {},
   "outputs": [
    {
     "data": {
      "text/plain": [
       "<matplotlib.axes._subplots.AxesSubplot at 0x7f8d778fdef0>"
      ]
     },
     "execution_count": 33,
     "metadata": {},
     "output_type": "execute_result"
    },
    {
     "data": {
      "image/png": "[encoded data removed]",
      "text/plain": [
       "<Figure size 432x288 with 1 Axes>"
      ]
     },
     "metadata": {
      "needs_background": "light"
     },
     "output_type": "display_data"
    }
   ],
   "source": [
    "ds_agg.sort_index(inplace = True, ascending= False)\n",
    "ds_agg.plot.bar()"
   ]
  },
  {
   "cell_type": "markdown",
   "metadata": {},
   "source": [
    "### Histgram ###"
   ]
  },
  {
   "cell_type": "code",
   "execution_count": 42,
   "metadata": {},
   "outputs": [
    {
     "data": {
      "text/plain": [
       "<matplotlib.axes._subplots.AxesSubplot at 0x7f8d7766d748>"
      ]
     },
     "execution_count": 42,
     "metadata": {},
     "output_type": "execute_result"
    },
    {
     "data": {
      "image/png": "[encoded data removed]",
      "text/plain": [
       "<Figure size 432x288 with 1 Axes>"
      ]
     },
     "metadata": {
      "needs_background": "light"
     },
     "output_type": "display_data"
    }
   ],
   "source": [
    "ds_fitness[\"OXY\"].hist()"
   ]
  },
  {
   "cell_type": "code",
   "execution_count": 43,
   "metadata": {},
   "outputs": [
    {
     "data": {
      "text/plain": [
       "array([[<matplotlib.axes._subplots.AxesSubplot object at 0x7f8d77638240>,\n",
       "        <matplotlib.axes._subplots.AxesSubplot object at 0x7f8d777fdd30>],\n",
       "       [<matplotlib.axes._subplots.AxesSubplot object at 0x7f8d776552e8>,\n",
       "        <matplotlib.axes._subplots.AxesSubplot object at 0x7f8d775ed860>]],\n",
       "      dtype=object)"
      ]
     },
     "execution_count": 43,
     "metadata": {},
     "output_type": "execute_result"
    },
    {
     "data": {
      "image/png": "[encoded data removed]",
      "text/plain": [
       "<Figure size 720x288 with 4 Axes>"
      ]
     },
     "metadata": {
      "needs_background": "light"
     },
     "output_type": "display_data"
    }
   ],
   "source": [
    "ds_fitness[['WEIGHT', 'AGE', 'OXY', 'RUNTIME']].hist(figsize = (10, 4))"
   ]
  },
  {
   "cell_type": "code",
   "execution_count": 44,
   "metadata": {},
   "outputs": [
    {
     "data": {
      "text/plain": [
       "<seaborn.axisgrid.FacetGrid at 0x7f8d77570358>"
      ]
     },
     "execution_count": 44,
     "metadata": {},
     "output_type": "execute_result"
    },
    {
     "data": {
      "image/png": "[encoded data removed]",
      "text/plain": [
       "<Figure size 432x216 with 2 Axes>"
      ]
     },
     "metadata": {
      "needs_background": "light"
     },
     "output_type": "display_data"
    }
   ],
   "source": [
    "grid = sns.FacetGrid(ds_fitness, col = \"GENDER\")\n",
    "grid.map(plt.hist, 'OXY')"
   ]
  },
  {
   "cell_type": "code",
   "execution_count": 57,
   "metadata": {},
   "outputs": [
    {
     "data": {
      "text/plain": [
       "<matplotlib.legend.Legend at 0x7f8d76fa35f8>"
      ]
     },
     "execution_count": 57,
     "metadata": {},
     "output_type": "execute_result"
    },
    {
     "data": {
      "image/png": "[encoded data removed]",
      "text/plain": [
       "<Figure size 432x288 with 1 Axes>"
      ]
     },
     "metadata": {
      "needs_background": "light"
     },
     "output_type": "display_data"
    }
   ],
   "source": [
    "plt.hist(ds_fitness[ds_fitness[\"GENDER\"] == '남성'][\"OXY\"], label = \"남성\", alpha = 0.5)\n",
    "plt.hist(ds_fitness[ds_fitness[\"GENDER\"] == '여성'][\"OXY\"], label = \"여성\", alpha = 0.5)\n",
    "plt.legend()"
   ]
  },
  {
   "cell_type": "code",
   "execution_count": 47,
   "metadata": {},
   "outputs": [
    {
     "data": {
      "text/plain": [
       "(array([4., 1., 0., 9., 6., 6., 1., 2., 0., 2.]),\n",
       " array([37.388 , 39.6547, 41.9214, 44.1881, 46.4548, 48.7215, 50.9882,\n",
       "        53.2549, 55.5216, 57.7883, 60.055 ]),\n",
       " <a list of 10 Patch objects>)"
      ]
     },
     "execution_count": 47,
     "metadata": {},
     "output_type": "execute_result"
    },
    {
     "data": {
      "image/png": "[encoded data removed]",
      "text/plain": [
       "<Figure size 432x288 with 1 Axes>"
      ]
     },
     "metadata": {
      "needs_background": "light"
     },
     "output_type": "display_data"
    }
   ],
   "source": [
    "plt.hist(x = \"OXY\", data = ds_fitness)"
   ]
  },
  {
   "cell_type": "code",
   "execution_count": 67,
   "metadata": {},
   "outputs": [
    {
     "data": {
      "text/plain": [
       "<matplotlib.legend.Legend at 0x7f8d76cea208>"
      ]
     },
     "execution_count": 67,
     "metadata": {},
     "output_type": "execute_result"
    },
    {
     "data": {
      "image/png": "[encoded data removed]",
      "text/plain": [
       "<Figure size 432x288 with 1 Axes>"
      ]
     },
     "metadata": {
      "needs_background": "light"
     },
     "output_type": "display_data"
    }
   ],
   "source": [
    "plt.hist(x = \"OXY\", data = ds_fitness , bins= 20, color='skyblue', alpha = 0.5, label ='OXY')\n",
    "plt.legend()"
   ]
  },
  {
   "cell_type": "markdown",
   "metadata": {},
   "source": [
    "### Box plot ###"
   ]
  },
  {
   "cell_type": "code",
   "execution_count": 73,
   "metadata": {},
   "outputs": [
    {
     "data": {
      "text/plain": [
       "<matplotlib.axes._subplots.AxesSubplot at 0x7f8d76aec518>"
      ]
     },
     "execution_count": 73,
     "metadata": {},
     "output_type": "execute_result"
    },
    {
     "data": {
      "image/png": "[encoded data removed]",
      "text/plain": [
       "<Figure size 432x288 with 1 Axes>"
      ]
     },
     "metadata": {
      "needs_background": "light"
     },
     "output_type": "display_data"
    }
   ],
   "source": [
    "ds_fitness.boxplot(column=\"WEIGHT\", by = \"AGEGROUP\" , fontsize=10, grid=False)"
   ]
  },
  {
   "cell_type": "markdown",
   "metadata": {},
   "source": [
    "### pie chart ###"
   ]
  },
  {
   "cell_type": "code",
   "execution_count": 84,
   "metadata": {},
   "outputs": [
    {
     "data": {
      "text/plain": [
       "<matplotlib.legend.Legend at 0x7f8d7685c668>"
      ]
     },
     "execution_count": 84,
     "metadata": {},
     "output_type": "execute_result"
    },
    {
     "data": {
      "image/png": "[encoded data removed]",
      "text/plain": [
       "<Figure size 432x288 with 1 Axes>"
      ]
     },
     "metadata": {},
     "output_type": "display_data"
    }
   ],
   "source": [
    "ds_sub = ds_fitness[ds_fitness[\"OXY\"]>=50]\n",
    "ds_count =ds_sub.groupby(\"AGEGROUP\", as_index=False).agg(\"count\")\n",
    "ds_count.plot.pie(y = \"OXY\", labels = ds_count[\"AGEGROUP\"], autopct = \"%.1f%%\" )\n",
    "plt.legend(loc='lower left')"
   ]
  },
  {
   "cell_type": "code",
   "execution_count": 106,
   "metadata": {},
   "outputs": [
    {
     "data": {
      "text/plain": [
       "<matplotlib.legend.Legend at 0x7f8d763c8208>"
      ]
     },
     "execution_count": 106,
     "metadata": {},
     "output_type": "execute_result"
    },
    {
     "data": {
      "image/png": "[encoded data removed]",
      "text/plain": [
       "<Figure size 432x288 with 1 Axes>"
      ]
     },
     "metadata": {},
     "output_type": "display_data"
    }
   ],
   "source": [
    "ds_sub = ds_fitness[ds_fitness[\"OXY\"]>=50]\n",
    "ds_count =ds_sub.groupby(\"AGEGROUP\", as_index=False).agg(\"count\")\n",
    "ds_count.plot.pie(y = \"OXY\", labels = ds_count[\"AGEGROUP\"], autopct = \"%.1f%%\" )\n",
    "plt.legend(loc='center') # loc = 10"
   ]
  },
  {
   "cell_type": "markdown",
   "metadata": {},
   "source": [
    "### Scatter plot ###"
   ]
  },
  {
   "cell_type": "code",
   "execution_count": 110,
   "metadata": {},
   "outputs": [
    {
     "data": {
      "text/plain": [
       "<matplotlib.axes._subplots.AxesSubplot at 0x7f8d762d5390>"
      ]
     },
     "execution_count": 110,
     "metadata": {},
     "output_type": "execute_result"
    },
    {
     "data": {
      "image/png": "[encoded data removed]",
      "text/plain": [
       "<Figure size 432x288 with 1 Axes>"
      ]
     },
     "metadata": {
      "needs_background": "light"
     },
     "output_type": "display_data"
    }
   ],
   "source": [
    "sns.scatterplot(x='RUNTIME', y=\"RUNPULSE\", hue = \"GENDER\", data=ds_fitness)"
   ]
  },
  {
   "cell_type": "code",
   "execution_count": 119,
   "metadata": {},
   "outputs": [
    {
     "data": {
      "image/png": "[encoded data removed]",
      "text/plain": [
       "<Figure size 432x432 with 3 Axes>"
      ]
     },
     "metadata": {
      "needs_background": "light"
     },
     "output_type": "display_data"
    }
   ],
   "source": [
    "sns.jointplot(x=\"RUNTIME\", y=\"RUNPULSE\", data=ds_fitness)\n",
    "plt.title(\"RUNTIME and RUNPULSE Joint Plot\")\n",
    "plt.show()"
   ]
  },
  {
   "cell_type": "code",
   "execution_count": 116,
   "metadata": {},
   "outputs": [
    {
     "data": {
      "image/png": "[encoded data removed]",
      "text/plain": [
       "<Figure size 432x432 with 3 Axes>"
      ]
     },
     "metadata": {
      "needs_background": "light"
     },
     "output_type": "display_data"
    }
   ],
   "source": [
    "sns.jointplot(x=\"RUNTIME\", y=\"RUNPULSE\", data=ds_fitness, kind=\"kde\")\n",
    "plt.title(\"RUNTIME and RUNPULSE Joint Plot\")\n",
    "plt.show()"
   ]
  },
  {
   "cell_type": "code",
   "execution_count": 120,
   "metadata": {},
   "outputs": [
    {
     "data": {
      "text/plain": [
       "<seaborn.axisgrid.PairGrid at 0x7f8d762f7e48>"
      ]
     },
     "execution_count": 120,
     "metadata": {},
     "output_type": "execute_result"
    },
    {
     "data": {
      "image/png": "[encoded data removed]",
      "text/plain": [
       "<Figure size 720x720 with 20 Axes>"
      ]
     },
     "metadata": {
      "needs_background": "light"
     },
     "output_type": "display_data"
    }
   ],
   "source": [
    "ds_filter = ds_fitness.filter([\"RUNPULSE\", \"MAXPULSE\",\"OXY\",\"RUNTIME\"])\n",
    "sns.pairplot(ds_filter)"
   ]
  },
  {
   "cell_type": "code",
   "execution_count": 126,
   "metadata": {},
   "outputs": [
    {
     "data": {
      "image/png": "[encoded data removed]",
      "text/plain": [
       "<Figure size 773.75x720 with 20 Axes>"
      ]
     },
     "metadata": {
      "needs_background": "light"
     },
     "output_type": "display_data"
    }
   ],
   "source": [
    "ds_filter2 = ds_fitness.filter([\"RUNPULSE\", \"MAXPULSE\",\"OXY\",\"RUNTIME\",'GENDER'])\n",
    "sns.pairplot(ds_filter2, hue=\"GENDER\", markers=[\"o\", \"s\"])\n",
    "plt.show()"
   ]
  },
  {
   "cell_type": "markdown",
   "metadata": {},
   "source": [
    "### Trend chart ###"
   ]
  },
  {
   "cell_type": "code",
   "execution_count": 127,
   "metadata": {},
   "outputs": [
    {
     "data": {
      "text/plain": [
       "<matplotlib.axes._subplots.AxesSubplot at 0x7f8d73a2e2e8>"
      ]
     },
     "execution_count": 127,
     "metadata": {},
     "output_type": "execute_result"
    },
    {
     "data": {
      "image/png": "[encoded data removed]",
      "text/plain": [
       "<Figure size 432x288 with 1 Axes>"
      ]
     },
     "metadata": {
      "needs_background": "light"
     },
     "output_type": "display_data"
    },
    {
     "data": {
      "image/png": "[encoded data removed]",
      "text/plain": [
       "<Figure size 432x288 with 1 Axes>"
      ]
     },
     "metadata": {
      "needs_background": "light"
     },
     "output_type": "display_data"
    }
   ],
   "source": [
    "ds_currency_pivot = ds_currency.pivot(index = \"APPL_DATE\", columns = \"CURRENCY\", values = \"STD_RATE\")\n",
    "ds_currency_pivot['CNY'].plot()\n",
    "ds_currency_pivot[['JPY', 'USD']].plot()"
   ]
  },
  {
   "cell_type": "code",
   "execution_count": 129,
   "metadata": {},
   "outputs": [
    {
     "data": {
      "text/html": [
       "<div>\n",
       "<style scoped>\n",
       "    .dataframe tbody tr th:only-of-type {\n",
       "        vertical-align: middle;\n",
       "    }\n",
       "\n",
       "    .dataframe tbody tr th {\n",
       "        vertical-align: top;\n",
       "    }\n",
       "\n",
       "    .dataframe thead th {\n",
       "        text-align: right;\n",
       "    }\n",
       "</style>\n",
       "<table border=\"1\" class=\"dataframe\">\n",
       "  <thead>\n",
       "    <tr style=\"text-align: right;\">\n",
       "      <th></th>\n",
       "      <th>CURRENCY</th>\n",
       "      <th>APPL_DATE</th>\n",
       "      <th>STD_RATE</th>\n",
       "      <th>USD_CONV_DATE</th>\n",
       "    </tr>\n",
       "  </thead>\n",
       "  <tbody>\n",
       "    <tr>\n",
       "      <th>0</th>\n",
       "      <td>CNY</td>\n",
       "      <td>2016-01-01</td>\n",
       "      <td>181.48</td>\n",
       "      <td>0.1541</td>\n",
       "    </tr>\n",
       "    <tr>\n",
       "      <th>1</th>\n",
       "      <td>JPY</td>\n",
       "      <td>2016-01-01</td>\n",
       "      <td>976.99</td>\n",
       "      <td>0.8294</td>\n",
       "    </tr>\n",
       "    <tr>\n",
       "      <th>2</th>\n",
       "      <td>USD</td>\n",
       "      <td>2016-01-01</td>\n",
       "      <td>1178.00</td>\n",
       "      <td>1.0000</td>\n",
       "    </tr>\n",
       "    <tr>\n",
       "      <th>3</th>\n",
       "      <td>CNY</td>\n",
       "      <td>2016-01-02</td>\n",
       "      <td>181.48</td>\n",
       "      <td>0.1541</td>\n",
       "    </tr>\n",
       "    <tr>\n",
       "      <th>4</th>\n",
       "      <td>JPY</td>\n",
       "      <td>2016-01-02</td>\n",
       "      <td>976.99</td>\n",
       "      <td>0.8294</td>\n",
       "    </tr>\n",
       "  </tbody>\n",
       "</table>\n",
       "</div>"
      ],
      "text/plain": [
       "  CURRENCY  APPL_DATE  STD_RATE  USD_CONV_DATE\n",
       "0      CNY 2016-01-01    181.48         0.1541\n",
       "1      JPY 2016-01-01    976.99         0.8294\n",
       "2      USD 2016-01-01   1178.00         1.0000\n",
       "3      CNY 2016-01-02    181.48         0.1541\n",
       "4      JPY 2016-01-02    976.99         0.8294"
      ]
     },
     "execution_count": 129,
     "metadata": {},
     "output_type": "execute_result"
    }
   ],
   "source": [
    "ds_currency.head()"
   ]
  },
  {
   "cell_type": "code",
   "execution_count": 130,
   "metadata": {},
   "outputs": [
    {
     "data": {
      "text/html": [
       "<div>\n",
       "<style scoped>\n",
       "    .dataframe tbody tr th:only-of-type {\n",
       "        vertical-align: middle;\n",
       "    }\n",
       "\n",
       "    .dataframe tbody tr th {\n",
       "        vertical-align: top;\n",
       "    }\n",
       "\n",
       "    .dataframe thead th {\n",
       "        text-align: right;\n",
       "    }\n",
       "</style>\n",
       "<table border=\"1\" class=\"dataframe\">\n",
       "  <thead>\n",
       "    <tr style=\"text-align: right;\">\n",
       "      <th>CURRENCY</th>\n",
       "      <th>CNY</th>\n",
       "      <th>JPY</th>\n",
       "      <th>USD</th>\n",
       "    </tr>\n",
       "    <tr>\n",
       "      <th>APPL_DATE</th>\n",
       "      <th></th>\n",
       "      <th></th>\n",
       "      <th></th>\n",
       "    </tr>\n",
       "  </thead>\n",
       "  <tbody>\n",
       "    <tr>\n",
       "      <th>2016-01-01</th>\n",
       "      <td>181.48</td>\n",
       "      <td>976.99</td>\n",
       "      <td>1178.0</td>\n",
       "    </tr>\n",
       "    <tr>\n",
       "      <th>2016-01-02</th>\n",
       "      <td>181.48</td>\n",
       "      <td>976.99</td>\n",
       "      <td>1178.0</td>\n",
       "    </tr>\n",
       "    <tr>\n",
       "      <th>2016-01-03</th>\n",
       "      <td>181.48</td>\n",
       "      <td>976.99</td>\n",
       "      <td>1178.0</td>\n",
       "    </tr>\n",
       "    <tr>\n",
       "      <th>2016-01-04</th>\n",
       "      <td>181.10</td>\n",
       "      <td>992.62</td>\n",
       "      <td>1184.0</td>\n",
       "    </tr>\n",
       "    <tr>\n",
       "      <th>2016-01-05</th>\n",
       "      <td>181.94</td>\n",
       "      <td>993.00</td>\n",
       "      <td>1185.0</td>\n",
       "    </tr>\n",
       "  </tbody>\n",
       "</table>\n",
       "</div>"
      ],
      "text/plain": [
       "CURRENCY       CNY     JPY     USD\n",
       "APPL_DATE                         \n",
       "2016-01-01  181.48  976.99  1178.0\n",
       "2016-01-02  181.48  976.99  1178.0\n",
       "2016-01-03  181.48  976.99  1178.0\n",
       "2016-01-04  181.10  992.62  1184.0\n",
       "2016-01-05  181.94  993.00  1185.0"
      ]
     },
     "execution_count": 130,
     "metadata": {},
     "output_type": "execute_result"
    }
   ],
   "source": [
    "ds_currency_pivot.head()"
   ]
  },
  {
   "cell_type": "code",
   "execution_count": 131,
   "metadata": {},
   "outputs": [
    {
     "data": {
      "text/plain": [
       "<matplotlib.axes._subplots.AxesSubplot at 0x7f8d7446aba8>"
      ]
     },
     "execution_count": 131,
     "metadata": {},
     "output_type": "execute_result"
    },
    {
     "data": {
      "image/png": "[encoded data removed]",
      "text/plain": [
       "<Figure size 432x288 with 1 Axes>"
      ]
     },
     "metadata": {
      "needs_background": "light"
     },
     "output_type": "display_data"
    }
   ],
   "source": [
    "ds_currency_pivot[['JPY', 'USD', 'CNY']].plot() # OMG!!!! -,.-"
   ]
  },
  {
   "cell_type": "code",
   "execution_count": 138,
   "metadata": {},
   "outputs": [
    {
     "data": {
      "text/plain": [
       "<matplotlib.axes._subplots.AxesSubplot at 0x7f8d73b3e160>"
      ]
     },
     "execution_count": 138,
     "metadata": {},
     "output_type": "execute_result"
    },
    {
     "data": {
      "image/png": "[encoded data removed]",
      "text/plain": [
       "<Figure size 432x288 with 1 Axes>"
      ]
     },
     "metadata": {
      "needs_background": "light"
     },
     "output_type": "display_data"
    }
   ],
   "source": [
    "ds_scale2 = scale(ds_currency_pivot)\n",
    "ds_scale2 = pd.DataFrame(ds_scale2, index = ds_currency_pivot.index, columns = ds_currency_pivot.columns)\n",
    "ds_scale2[['JPY', 'USD', 'CNY']].plot() # OMG!!!! -,.-"
   ]
  },
  {
   "cell_type": "code",
   "execution_count": 140,
   "metadata": {},
   "outputs": [
    {
     "data": {
      "text/plain": [
       "<matplotlib.axes._subplots.AxesSubplot at 0x7f8d742ab080>"
      ]
     },
     "execution_count": 140,
     "metadata": {},
     "output_type": "execute_result"
    },
    {
     "data": {
      "image/png": "[encoded data removed]",
      "text/plain": [
       "<Figure size 432x288 with 2 Axes>"
      ]
     },
     "metadata": {
      "needs_background": "light"
     },
     "output_type": "display_data"
    }
   ],
   "source": [
    "ds_agg= ds_fitness.groupby([\"GENDER\", \"AGEGROUP\"], as_index = False).agg(\"mean\")\n",
    "ds_pivot = ds_agg.pivot(\"GENDER\", \"AGEGROUP\", \"OXY\")\n",
    "sns.heatmap(ds_pivot, cmap=\"Blues\")"
   ]
  },
  {
   "cell_type": "code",
   "execution_count": 142,
   "metadata": {},
   "outputs": [
    {
     "name": "stderr",
     "output_type": "stream",
     "text": [
      "/home/pirl/anaconda3/envs/py35/lib/python3.5/site-packages/matplotlib/contour.py:1000: UserWarning: The following kwargs were not used by contour: 'shape'\n",
      "  s)\n"
     ]
    },
    {
     "data": {
      "text/plain": [
       "<matplotlib.axes._subplots.AxesSubplot at 0x7f8d73b1dc18>"
      ]
     },
     "execution_count": 142,
     "metadata": {},
     "output_type": "execute_result"
    },
    {
     "data": {
      "image/png": "[encoded data removed]",
      "text/plain": [
       "<Figure size 432x288 with 1 Axes>"
      ]
     },
     "metadata": {
      "needs_background": "light"
     },
     "output_type": "display_data"
    }
   ],
   "source": [
    "sns.kdeplot(ds_fitness[\"RUNTIME\"], ds_fitness[\"RUNPULSE\"], shape = False)"
   ]
  },
  {
   "cell_type": "code",
   "execution_count": 144,
   "metadata": {},
   "outputs": [
    {
     "name": "stderr",
     "output_type": "stream",
     "text": [
      "/home/pirl/anaconda3/envs/py35/lib/python3.5/site-packages/matplotlib/contour.py:1000: UserWarning: The following kwargs were not used by contour: 'shape'\n",
      "  s)\n"
     ]
    },
    {
     "data": {
      "text/plain": [
       "<matplotlib.axes._subplots.AxesSubplot at 0x7f8d7546fef0>"
      ]
     },
     "execution_count": 144,
     "metadata": {},
     "output_type": "execute_result"
    },
    {
     "data": {
      "image/png": "[encoded data removed]",
      "text/plain": [
       "<Figure size 432x288 with 1 Axes>"
      ]
     },
     "metadata": {
      "needs_background": "light"
     },
     "output_type": "display_data"
    }
   ],
   "source": [
    "sns.kdeplot(ds_fitness[\"RUNTIME\"], ds_fitness[\"RUNPULSE\"], shape = False, shade=True)"
   ]
  },
  {
   "cell_type": "code",
   "execution_count": 170,
   "metadata": {},
   "outputs": [
    {
     "name": "stderr",
     "output_type": "stream",
     "text": [
      "/home/pirl/anaconda3/envs/py35/lib/python3.5/site-packages/pandas/core/generic.py:5434: SettingWithCopyWarning: \n",
      "A value is trying to be set on a copy of a slice from a DataFrame\n",
      "\n",
      "See the caveats in the documentation: http://pandas.pydata.org/pandas-docs/stable/indexing.html#indexing-view-versus-copy\n",
      "  self._update_inplace(new_data)\n",
      "/home/pirl/anaconda3/envs/py35/lib/python3.5/site-packages/ipykernel_launcher.py:4: SettingWithCopyWarning: \n",
      "A value is trying to be set on a copy of a slice from a DataFrame.\n",
      "Try using .loc[row_indexer,col_indexer] = value instead\n",
      "\n",
      "See the caveats in the documentation: http://pandas.pydata.org/pandas-docs/stable/indexing.html#indexing-view-versus-copy\n",
      "  after removing the cwd from sys.path.\n"
     ]
    },
    {
     "data": {
      "text/html": [
       "<div>\n",
       "<style scoped>\n",
       "    .dataframe tbody tr th:only-of-type {\n",
       "        vertical-align: middle;\n",
       "    }\n",
       "\n",
       "    .dataframe tbody tr th {\n",
       "        vertical-align: top;\n",
       "    }\n",
       "\n",
       "    .dataframe thead th {\n",
       "        text-align: right;\n",
       "    }\n",
       "</style>\n",
       "<table border=\"1\" class=\"dataframe\">\n",
       "  <thead>\n",
       "    <tr style=\"text-align: right;\">\n",
       "      <th></th>\n",
       "      <th>GENDER</th>\n",
       "      <th>OXY</th>\n",
       "      <th>WEIGHT</th>\n",
       "      <th>RSTPULSE</th>\n",
       "    </tr>\n",
       "  </thead>\n",
       "  <tbody>\n",
       "    <tr>\n",
       "      <th>0</th>\n",
       "      <td>False</td>\n",
       "      <td>False</td>\n",
       "      <td>False</td>\n",
       "      <td>False</td>\n",
       "    </tr>\n",
       "    <tr>\n",
       "      <th>1</th>\n",
       "      <td>False</td>\n",
       "      <td>False</td>\n",
       "      <td>False</td>\n",
       "      <td>False</td>\n",
       "    </tr>\n",
       "    <tr>\n",
       "      <th>2</th>\n",
       "      <td>False</td>\n",
       "      <td>False</td>\n",
       "      <td>False</td>\n",
       "      <td>False</td>\n",
       "    </tr>\n",
       "    <tr>\n",
       "      <th>3</th>\n",
       "      <td>False</td>\n",
       "      <td>False</td>\n",
       "      <td>False</td>\n",
       "      <td>False</td>\n",
       "    </tr>\n",
       "    <tr>\n",
       "      <th>4</th>\n",
       "      <td>False</td>\n",
       "      <td>False</td>\n",
       "      <td>False</td>\n",
       "      <td>False</td>\n",
       "    </tr>\n",
       "    <tr>\n",
       "      <th>5</th>\n",
       "      <td>False</td>\n",
       "      <td>False</td>\n",
       "      <td>False</td>\n",
       "      <td>False</td>\n",
       "    </tr>\n",
       "    <tr>\n",
       "      <th>6</th>\n",
       "      <td>False</td>\n",
       "      <td>False</td>\n",
       "      <td>False</td>\n",
       "      <td>False</td>\n",
       "    </tr>\n",
       "    <tr>\n",
       "      <th>7</th>\n",
       "      <td>False</td>\n",
       "      <td>False</td>\n",
       "      <td>False</td>\n",
       "      <td>False</td>\n",
       "    </tr>\n",
       "    <tr>\n",
       "      <th>8</th>\n",
       "      <td>False</td>\n",
       "      <td>False</td>\n",
       "      <td>False</td>\n",
       "      <td>False</td>\n",
       "    </tr>\n",
       "    <tr>\n",
       "      <th>9</th>\n",
       "      <td>False</td>\n",
       "      <td>False</td>\n",
       "      <td>False</td>\n",
       "      <td>False</td>\n",
       "    </tr>\n",
       "    <tr>\n",
       "      <th>10</th>\n",
       "      <td>False</td>\n",
       "      <td>False</td>\n",
       "      <td>False</td>\n",
       "      <td>False</td>\n",
       "    </tr>\n",
       "    <tr>\n",
       "      <th>11</th>\n",
       "      <td>False</td>\n",
       "      <td>False</td>\n",
       "      <td>False</td>\n",
       "      <td>False</td>\n",
       "    </tr>\n",
       "    <tr>\n",
       "      <th>12</th>\n",
       "      <td>False</td>\n",
       "      <td>False</td>\n",
       "      <td>False</td>\n",
       "      <td>False</td>\n",
       "    </tr>\n",
       "    <tr>\n",
       "      <th>13</th>\n",
       "      <td>False</td>\n",
       "      <td>False</td>\n",
       "      <td>False</td>\n",
       "      <td>False</td>\n",
       "    </tr>\n",
       "    <tr>\n",
       "      <th>14</th>\n",
       "      <td>False</td>\n",
       "      <td>False</td>\n",
       "      <td>False</td>\n",
       "      <td>False</td>\n",
       "    </tr>\n",
       "    <tr>\n",
       "      <th>15</th>\n",
       "      <td>False</td>\n",
       "      <td>False</td>\n",
       "      <td>False</td>\n",
       "      <td>False</td>\n",
       "    </tr>\n",
       "    <tr>\n",
       "      <th>16</th>\n",
       "      <td>False</td>\n",
       "      <td>False</td>\n",
       "      <td>False</td>\n",
       "      <td>False</td>\n",
       "    </tr>\n",
       "    <tr>\n",
       "      <th>17</th>\n",
       "      <td>False</td>\n",
       "      <td>False</td>\n",
       "      <td>False</td>\n",
       "      <td>False</td>\n",
       "    </tr>\n",
       "    <tr>\n",
       "      <th>18</th>\n",
       "      <td>False</td>\n",
       "      <td>False</td>\n",
       "      <td>False</td>\n",
       "      <td>False</td>\n",
       "    </tr>\n",
       "    <tr>\n",
       "      <th>19</th>\n",
       "      <td>False</td>\n",
       "      <td>False</td>\n",
       "      <td>False</td>\n",
       "      <td>False</td>\n",
       "    </tr>\n",
       "    <tr>\n",
       "      <th>20</th>\n",
       "      <td>False</td>\n",
       "      <td>False</td>\n",
       "      <td>False</td>\n",
       "      <td>False</td>\n",
       "    </tr>\n",
       "    <tr>\n",
       "      <th>21</th>\n",
       "      <td>False</td>\n",
       "      <td>False</td>\n",
       "      <td>False</td>\n",
       "      <td>False</td>\n",
       "    </tr>\n",
       "    <tr>\n",
       "      <th>22</th>\n",
       "      <td>False</td>\n",
       "      <td>False</td>\n",
       "      <td>False</td>\n",
       "      <td>False</td>\n",
       "    </tr>\n",
       "    <tr>\n",
       "      <th>23</th>\n",
       "      <td>False</td>\n",
       "      <td>False</td>\n",
       "      <td>False</td>\n",
       "      <td>False</td>\n",
       "    </tr>\n",
       "    <tr>\n",
       "      <th>24</th>\n",
       "      <td>False</td>\n",
       "      <td>False</td>\n",
       "      <td>False</td>\n",
       "      <td>False</td>\n",
       "    </tr>\n",
       "    <tr>\n",
       "      <th>25</th>\n",
       "      <td>False</td>\n",
       "      <td>False</td>\n",
       "      <td>False</td>\n",
       "      <td>False</td>\n",
       "    </tr>\n",
       "    <tr>\n",
       "      <th>26</th>\n",
       "      <td>False</td>\n",
       "      <td>False</td>\n",
       "      <td>False</td>\n",
       "      <td>False</td>\n",
       "    </tr>\n",
       "    <tr>\n",
       "      <th>27</th>\n",
       "      <td>False</td>\n",
       "      <td>False</td>\n",
       "      <td>False</td>\n",
       "      <td>False</td>\n",
       "    </tr>\n",
       "    <tr>\n",
       "      <th>28</th>\n",
       "      <td>False</td>\n",
       "      <td>False</td>\n",
       "      <td>False</td>\n",
       "      <td>False</td>\n",
       "    </tr>\n",
       "    <tr>\n",
       "      <th>29</th>\n",
       "      <td>False</td>\n",
       "      <td>False</td>\n",
       "      <td>False</td>\n",
       "      <td>False</td>\n",
       "    </tr>\n",
       "    <tr>\n",
       "      <th>30</th>\n",
       "      <td>False</td>\n",
       "      <td>False</td>\n",
       "      <td>False</td>\n",
       "      <td>False</td>\n",
       "    </tr>\n",
       "  </tbody>\n",
       "</table>\n",
       "</div>"
      ],
      "text/plain": [
       "    GENDER    OXY  WEIGHT  RSTPULSE\n",
       "0    False  False   False     False\n",
       "1    False  False   False     False\n",
       "2    False  False   False     False\n",
       "3    False  False   False     False\n",
       "4    False  False   False     False\n",
       "5    False  False   False     False\n",
       "6    False  False   False     False\n",
       "7    False  False   False     False\n",
       "8    False  False   False     False\n",
       "9    False  False   False     False\n",
       "10   False  False   False     False\n",
       "11   False  False   False     False\n",
       "12   False  False   False     False\n",
       "13   False  False   False     False\n",
       "14   False  False   False     False\n",
       "15   False  False   False     False\n",
       "16   False  False   False     False\n",
       "17   False  False   False     False\n",
       "18   False  False   False     False\n",
       "19   False  False   False     False\n",
       "20   False  False   False     False\n",
       "21   False  False   False     False\n",
       "22   False  False   False     False\n",
       "23   False  False   False     False\n",
       "24   False  False   False     False\n",
       "25   False  False   False     False\n",
       "26   False  False   False     False\n",
       "27   False  False   False     False\n",
       "28   False  False   False     False\n",
       "29   False  False   False     False\n",
       "30   False  False   False     False"
      ]
     },
     "execution_count": 170,
     "metadata": {},
     "output_type": "execute_result"
    }
   ],
   "source": [
    "ds_filter = ds_fitness[['GENDER', 'OXY', 'WEIGHT', 'RSTPULSE']]\n",
    "# replace nan to \"여성\"\n",
    "ds_filter['GENDER'].fillna(\"여성\", inplace = True) # inplace : want change result? - default = False\n",
    "ds_filter[\"WEIGHT\"] = ds_filter[\"WEIGHT\"].fillna(ds_filter.groupby(\"GENDER\")[\"WEIGHT\"].transform(\"mean\")).round(3)"
   ]
  },
  {
   "cell_type": "code",
   "execution_count": 171,
   "metadata": {},
   "outputs": [
    {
     "name": "stderr",
     "output_type": "stream",
     "text": [
      "/home/pirl/anaconda3/envs/py35/lib/python3.5/site-packages/ipykernel_launcher.py:1: FutureWarning: the 'colors' keyword is deprecated, use 'color' instead\n",
      "  \"\"\"Entry point for launching an IPython kernel.\n"
     ]
    },
    {
     "data": {
      "text/plain": [
       "<matplotlib.axes._subplots.AxesSubplot at 0x7f8d76241c18>"
      ]
     },
     "execution_count": 171,
     "metadata": {},
     "output_type": "execute_result"
    },
    {
     "data": {
      "image/png": "[encoded data removed]",
      "text/plain": [
       "<Figure size 432x288 with 1 Axes>"
      ]
     },
     "metadata": {
      "needs_background": "light"
     },
     "output_type": "display_data"
    }
   ],
   "source": [
    "pd.plotting.parallel_coordinates(ds_filter, \"GENDER\", colors = ('red', 'green'))"
   ]
  },
  {
   "cell_type": "code",
   "execution_count": 175,
   "metadata": {},
   "outputs": [
    {
     "data": {
      "text/plain": [
       "Text(486.9227272727271, 0.5, '혈당 산소 요구량')"
      ]
     },
     "execution_count": 175,
     "metadata": {},
     "output_type": "execute_result"
    },
    {
     "data": {
      "image/png": "[encoded data removed]",
      "text/plain": [
       "<Figure size 936x720 with 4 Axes>"
      ]
     },
     "metadata": {
      "needs_background": "light"
     },
     "output_type": "display_data"
    }
   ],
   "source": [
    "ds_count = ds_fitness[\"AGEGROUP\"].value_counts()\n",
    "fig, axes = plt.subplots(nrows = 2, ncols =2, figsize = (13, 10))\n",
    "plt.tight_layout(w_pad=5, h_pad=5)\n",
    "\n",
    "# hist\n",
    "axes[0,0].hist(ds_fitness['OXY'])\n",
    "axes[0,0].set_title(\"Histogram\", fontsize = 15)\n",
    "axes[0,0].set_xlabel(\"혈당 산소 요구량\", fontsize = 12)\n",
    "\n",
    "# pie chart\n",
    "axes[0,1].pie(ds_count, labels = ds_count.index.tolist(), autopct = \"%.1f%%\")\n",
    "axes[0,1].set_title(\"Pie Chart\", fontsize = 15)\n",
    "axes[0,1].set_xlabel(\"나이 그룹\", fontsize = 12)\n",
    "\n",
    "# Trend\n",
    "axes[1,0].plot(\"RUNTIME\", \"RUNPULSE\", data = ds_fitness, label = \"맥박(운동)\")\n",
    "axes[1,0].plot(\"RUNTIME\", \"OXY\", data = ds_fitness, label = \"혈당 산소 요구량\")\n",
    "axes[1,0].set_title(\"Trend\", fontsize = 15)\n",
    "axes[1,0].set_xlabel(\"운동시간\", fontsize = 12)\n",
    "axes[1,0].legend()\n",
    "\n",
    "# Scatter\n",
    "axes[1,1].scatter(\"RUNPULSE\", \"OXY\", data=ds_fitness)\n",
    "axes[1,1].set_title(\"Scatter\", fontsize = 15)\n",
    "axes[1,1].set_xlabel(\"맥박(운동)\", fontsize = 12)\n",
    "axes[1,1].set_ylabel(\"혈당 산소 요구량\", fontsize = 12)"
   ]
  },
  {
   "cell_type": "code",
   "execution_count": 180,
   "metadata": {},
   "outputs": [
    {
     "data": {
      "text/plain": [
       "Text(764.2934782608696, 0.5, '혈당 산소 요구량')"
      ]
     },
     "execution_count": 180,
     "metadata": {},
     "output_type": "execute_result"
    },
    {
     "data": {
      "image/png": "[encoded data removed]",
      "text/plain": [
       "<Figure size 1080x216 with 4 Axes>"
      ]
     },
     "metadata": {
      "needs_background": "light"
     },
     "output_type": "display_data"
    }
   ],
   "source": [
    "ds_count = ds_fitness[\"AGEGROUP\"].value_counts()\n",
    "fig, axes = plt.subplots(nrows = 1, ncols =4, figsize = (15, 3))\n",
    "plt.tight_layout(w_pad=5, h_pad=5)\n",
    "\n",
    "# hist\n",
    "axes[0].hist(ds_fitness['OXY'])\n",
    "axes[0].set_title(\"Histogram\", fontsize = 15)\n",
    "axes[0].set_xlabel(\"혈당 산소 요구량\", fontsize = 12)\n",
    "\n",
    "# pie chart\n",
    "axes[1].pie(ds_count, labels = ds_count.index.tolist(), autopct = \"%.1f%%\")\n",
    "axes[1].set_title(\"Pie Chart\", fontsize = 15)\n",
    "axes[1].set_xlabel(\"나이 그룹\", fontsize = 12)\n",
    "\n",
    "# Trend\n",
    "axes[2].plot(\"RUNTIME\", \"RUNPULSE\", data = ds_fitness, label = \"맥박(운동)\")\n",
    "axes[2].plot(\"RUNTIME\", \"OXY\", data = ds_fitness, label = \"혈당 산소 요구량\")\n",
    "axes[2].set_title(\"Trend\", fontsize = 15)\n",
    "axes[2].set_xlabel(\"운동시간\", fontsize = 12)\n",
    "axes[2].legend()\n",
    "\n",
    "# Scatter\n",
    "axes[3].scatter(\"RUNPULSE\", \"OXY\", data=ds_fitness)\n",
    "axes[3].set_title(\"Scatter\", fontsize = 15)\n",
    "axes[3].set_xlabel(\"맥박(운동)\", fontsize = 12)\n",
    "axes[3].set_ylabel(\"혈당 산소 요구량\", fontsize = 12)"
   ]
  },
  {
   "cell_type": "code",
   "execution_count": 187,
   "metadata": {},
   "outputs": [
    {
     "data": {
      "text/plain": [
       "Text(19.25, 0.5, '혈당 산소 요구량')"
      ]
     },
     "execution_count": 187,
     "metadata": {},
     "output_type": "execute_result"
    },
    {
     "data": {
      "image/png": "[encoded data removed]",
      "text/plain": [
       "<Figure size 360x1080 with 4 Axes>"
      ]
     },
     "metadata": {
      "needs_background": "light"
     },
     "output_type": "display_data"
    }
   ],
   "source": [
    "ds_count = ds_fitness[\"AGEGROUP\"].value_counts()\n",
    "fig, axes = plt.subplots(nrows = 4, ncols =1, figsize = (5, 15))\n",
    "plt.tight_layout(w_pad=5, h_pad=5)\n",
    "\n",
    "# hist\n",
    "axes[0].hist(ds_fitness['OXY'])\n",
    "axes[0].set_title(\"Histogram\", fontsize = 15)\n",
    "axes[0].set_xlabel(\"혈당 산소 요구량\", fontsize = 12)\n",
    "\n",
    "# pie chart\n",
    "axes[1].pie(ds_count, labels = ds_count.index.tolist(), autopct = \"%.1f%%\")\n",
    "axes[1].set_title(\"Pie Chart\", fontsize = 15)\n",
    "axes[1].set_xlabel(\"나이 그룹\", fontsize = 12)\n",
    "\n",
    "# Trend\n",
    "axes[2].plot(\"RUNTIME\", \"RUNPULSE\", data = ds_fitness, label = \"맥박(운동)\")\n",
    "axes[2].plot(\"RUNTIME\", \"OXY\", data = ds_fitness, label = \"혈당 산소 요구량\")\n",
    "axes[2].set_title(\"Trend\", fontsize = 15)\n",
    "axes[2].set_xlabel(\"운동시간\", fontsize = 12)\n",
    "axes[2].legend()\n",
    "\n",
    "# Scatter\n",
    "axes[3].scatter(\"RUNPULSE\", \"OXY\", data=ds_fitness)\n",
    "axes[3].set_title(\"Scatter\", fontsize = 15)\n",
    "axes[3].set_xlabel(\"맥박(운동)\", fontsize = 12)\n",
    "axes[3].set_ylabel(\"혈당 산소 요구량\", fontsize = 12)"
   ]
  },
  {
   "cell_type": "code",
   "execution_count": 194,
   "metadata": {},
   "outputs": [
    {
     "data": {
      "text/plain": [
       "Text(658.954347826087, 0.5, '혈당 산소 요구량')"
      ]
     },
     "execution_count": 194,
     "metadata": {},
     "output_type": "execute_result"
    },
    {
     "data": {
      "image/png": "[encoded data removed]",
      "text/plain": [
       "<Figure size 936x720 with 16 Axes>"
      ]
     },
     "metadata": {
      "needs_background": "light"
     },
     "output_type": "display_data"
    }
   ],
   "source": [
    "ds_count = ds_fitness[\"AGEGROUP\"].value_counts()\n",
    "fig, axes = plt.subplots(nrows = 4, ncols =4, figsize = (13, 10))\n",
    "plt.tight_layout(w_pad=5, h_pad=5)\n",
    "\n",
    "# hist\n",
    "axes[0,0].hist(ds_fitness['OXY'])\n",
    "axes[0,0].set_title(\"Histogram\", fontsize = 15)\n",
    "axes[0,0].set_xlabel(\"혈당 산소 요구량\", fontsize = 12)\n",
    "\n",
    "# pie chart\n",
    "axes[1,1].pie(ds_count, labels = ds_count.index.tolist(), autopct = \"%.1f%%\")\n",
    "axes[1,1].set_title(\"Pie Chart\", fontsize = 15)\n",
    "axes[1,1].set_xlabel(\"나이 그룹\", fontsize = 12)\n",
    "\n",
    "# Trend\n",
    "axes[2,2].plot(\"RUNTIME\", \"RUNPULSE\", data = ds_fitness, label = \"맥박(운동)\")\n",
    "axes[2,2].plot(\"RUNTIME\", \"OXY\", data = ds_fitness, label = \"혈당 산소 요구량\")\n",
    "axes[2,2].set_title(\"Trend\", fontsize = 15)\n",
    "axes[2,2].set_xlabel(\"운동시간\", fontsize = 12)\n",
    "axes[2,2].legend()\n",
    "\n",
    "# Scatter\n",
    "axes[3,3].scatter(\"RUNPULSE\", \"OXY\", data=ds_fitness)\n",
    "axes[3,3].set_title(\"Scatter\", fontsize = 15)\n",
    "axes[3,3].set_xlabel(\"맥박(운동)\", fontsize = 12)\n",
    "axes[3,3].set_ylabel(\"혈당 산소 요구량\", fontsize = 12)"
   ]
  },
  {
   "cell_type": "code",
   "execution_count": null,
   "metadata": {},
   "outputs": [],
   "source": []
  }
 ],
 "metadata": {
  "kernelspec": {
   "display_name": "Python 3",
   "language": "python",
   "name": "python3"
  },
  "language_info": {
   "codemirror_mode": {
    "name": "ipython",
    "version": 3
   },
   "file_extension": ".py",
   "mimetype": "text/x-python",
   "name": "python",
   "nbconvert_exporter": "python",
   "pygments_lexer": "ipython3",
   "version": "3.5.6"
  }
 },
 "nbformat": 4,
 "nbformat_minor": 2
}
