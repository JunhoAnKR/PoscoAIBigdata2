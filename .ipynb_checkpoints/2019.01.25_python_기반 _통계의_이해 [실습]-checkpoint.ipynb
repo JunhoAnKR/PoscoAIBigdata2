{
 "cells": [
  {
   "cell_type": "code",
   "execution_count": 18,
   "metadata": {},
   "outputs": [],
   "source": [
    "import numpy as np\n",
    "import pandas as pd\n",
    "from scipy import stats\n",
    "import matplotlib.pyplot as plt\n",
    "import seaborn as sns\n",
    "import statsmodels.api as sm\n",
    "from statsmodels.stats.proportion import proportions_ztest\n",
    "from sklearn import linear_model"
   ]
  },
  {
   "cell_type": "code",
   "execution_count": 19,
   "metadata": {},
   "outputs": [
    {
     "name": "stdout",
     "output_type": "stream",
     "text": [
      "Correlation Analysis\n",
      "corr: -0.723\n",
      "p:  0.000\n"
     ]
    },
    {
     "data": {
      "image/png": "[encoded data removed]",
      "text/plain": [
       "<Figure size 432x288 with 1 Axes>"
      ]
     },
     "metadata": {
      "needs_background": "light"
     },
     "output_type": "display_data"
    }
   ],
   "source": [
    "# 1. Correlation Analysis\n",
    "Strength = [37.6, 38.6, 37.2, 36.4, 38.6, 39, 37.2, 36.1, 35.9, 37.1, 36.9, 37.5, 36.3, 38.1, 39, 36.9, 36.8, 37.6\n",
    "       , 33, 33.5]\n",
    "Temperature = [14, 15, 14, 16, 17, 14, 17, 16, 15, 16, 14, 16, 18, 13, 15, 17, 14, 16, 20, 21]\n",
    "plt.scatter(Temperature,Strength)\n",
    "corr, pval = stats.pearsonr(Strength, Temperature)\n",
    "print(\"Correlation Analysis\")\n",
    "print(\"corr: {0: .3f}\".format(corr))\n",
    "print(\"p: {0: .3f}\".format(pval))\n",
    "\n",
    "# p<0.05 이므로 df1, df2는 상관관계가 있다고 할 수 있다."
   ]
  },
  {
   "cell_type": "code",
   "execution_count": 29,
   "metadata": {},
   "outputs": [
    {
     "name": "stdout",
     "output_type": "stream",
     "text": [
      "                            OLS Regression Results                            \n",
      "==============================================================================\n",
      "Dep. Variable:                      y   R-squared:                       0.646\n",
      "Model:                            OLS   Adj. R-squared:                  0.627\n",
      "Method:                 Least Squares   F-statistic:                     32.91\n",
      "Date:                Fri, 25 Jan 2019   Prob (F-statistic):           1.94e-05\n",
      "Time:                        10:07:01   Log-Likelihood:                -26.429\n",
      "No. Observations:                  20   AIC:                             56.86\n",
      "Df Residuals:                      18   BIC:                             58.85\n",
      "Df Model:                           1                                         \n",
      "Covariance Type:            nonrobust                                         \n",
      "==============================================================================\n",
      "                 coef    std err          t      P>|t|      [0.025      0.975]\n",
      "------------------------------------------------------------------------------\n",
      "const         12.9973      4.183      3.107      0.006       4.208      21.786\n",
      "x1            30.8771      5.382      5.737      0.000      19.569      42.185\n",
      "==============================================================================\n",
      "Omnibus:                        1.720   Durbin-Watson:                   0.766\n",
      "Prob(Omnibus):                  0.423   Jarque-Bera (JB):                1.203\n",
      "Skew:                          -0.588   Prob(JB):                        0.548\n",
      "Kurtosis:                       2.753   Cond. No.                         40.4\n",
      "==============================================================================\n",
      "\n",
      "Warnings:\n",
      "[1] Standard Errors assume that the covariance matrix of the errors is correctly specified.\n"
     ]
    }
   ],
   "source": [
    "# 2 . Simple Linier Regression\n",
    "\n",
    "Strength = [37.6, 38.6, 37.2, 36.4, 38.6, 39, 37.2, 36.1, 35.9, 37.1, 36.9, 37.5, 36.3, 38.1, 39, 36.9, 36.8, 37.6\n",
    "       , 33, 33.5]\n",
    "BakingTime = [0.798922, 0.84902, 0.816163, 0.758266, 0.815894, 0.807477, 0.809068, 0.7664, 0.742243, 0.751118\n",
    "      ,0.740629, 0.751495, 0.738863, 0.827428, 0.818172, 0.740939, 0.75728, 0.804695, 0.695121, 0.735377]\n",
    "\n",
    "BakingTime = sm.add_constant(BakingTime) # X \n",
    "\n",
    "model = sm.OLS(Strength, BakingTime) # y, x\n",
    "result = model.fit()\n",
    "\n",
    "print(result.summary())"
   ]
  },
  {
   "cell_type": "code",
   "execution_count": null,
   "metadata": {},
   "outputs": [],
   "source": []
  }
 ],
 "metadata": {
  "kernelspec": {
   "display_name": "Python 3",
   "language": "python",
   "name": "python3"
  },
  "language_info": {
   "codemirror_mode": {
    "name": "ipython",
    "version": 3
   },
   "file_extension": ".py",
   "mimetype": "text/x-python",
   "name": "python",
   "nbconvert_exporter": "python",
   "pygments_lexer": "ipython3",
   "version": "3.5.6"
  }
 },
 "nbformat": 4,
 "nbformat_minor": 2
}
