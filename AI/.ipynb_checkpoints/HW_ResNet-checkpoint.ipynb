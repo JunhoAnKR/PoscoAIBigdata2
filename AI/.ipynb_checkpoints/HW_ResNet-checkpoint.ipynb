{
 "cells": [
  {
   "cell_type": "code",
   "execution_count": 1,
   "metadata": {},
   "outputs": [],
   "source": [
    "# library import\n",
    "import tensorflow as tf\n",
    "from tensorflow.keras.datasets.cifar100 import load_data\n",
    "\n",
    "import numpy as np\n",
    "\n",
    "%matplotlib inline\n",
    "import matplotlib.pyplot as plt"
   ]
  },
  {
   "cell_type": "code",
   "execution_count": 2,
   "metadata": {},
   "outputs": [],
   "source": [
    "# data import\n",
    "(train_data, train_label), (test_data, test_label) = load_data(label_mode='fine')"
   ]
  },
  {
   "cell_type": "code",
   "execution_count": 3,
   "metadata": {},
   "outputs": [
    {
     "name": "stdout",
     "output_type": "stream",
     "text": [
      "(50000, 32, 32, 3)\n",
      "(50000, 1)\n",
      "(10000, 32, 32, 3)\n",
      "(10000, 1)\n"
     ]
    }
   ],
   "source": [
    "# size of MNIST\n",
    "print(train_data.shape)\n",
    "print(train_label.shape)\n",
    "print(test_data.shape)\n",
    "print(test_label.shape)"
   ]
  },
  {
   "cell_type": "code",
   "execution_count": 4,
   "metadata": {},
   "outputs": [
    {
     "data": {
      "image/png": "[encoded data removed]",
      "text/plain": [
       "<Figure size 432x288 with 1 Axes>"
      ]
     },
     "metadata": {
      "needs_background": "light"
     },
     "output_type": "display_data"
    }
   ],
   "source": [
    "# show data\n",
    "sample_data = train_data[100]\n",
    "plt.imshow(sample_data, cmap=plt.cm.Greys);"
   ]
  },
  {
   "cell_type": "code",
   "execution_count": 5,
   "metadata": {},
   "outputs": [
    {
     "data": {
      "text/plain": [
       "array([[19],\n",
       "       [29],\n",
       "       [ 0],\n",
       "       ...,\n",
       "       [ 3],\n",
       "       [ 7],\n",
       "       [73]])"
      ]
     },
     "execution_count": 5,
     "metadata": {},
     "output_type": "execute_result"
    }
   ],
   "source": [
    "train_label"
   ]
  },
  {
   "cell_type": "code",
   "execution_count": 6,
   "metadata": {},
   "outputs": [],
   "source": [
    "# 데이터의 label을 모델예측값과 비교하기위해 변환\n",
    "train_label = train_label.sum(axis=1)\n",
    "test_label = test_label.sum(axis=1)"
   ]
  },
  {
   "cell_type": "code",
   "execution_count": 7,
   "metadata": {},
   "outputs": [
    {
     "data": {
      "text/plain": [
       "array([19, 29,  0, ...,  3,  7, 73])"
      ]
     },
     "execution_count": 7,
     "metadata": {},
     "output_type": "execute_result"
    }
   ],
   "source": [
    "train_label"
   ]
  },
  {
   "cell_type": "markdown",
   "metadata": {},
   "source": [
    "## ResNet"
   ]
  },
  {
   "cell_type": "code",
   "execution_count": 8,
   "metadata": {},
   "outputs": [],
   "source": [
    "# hyperparameters\n",
    "learning_rate = 1e-3\n",
    "num_epochs = 20\n",
    "batch_size = 200\n",
    "num_display = 50\n",
    "\n",
    "# resnet layer define\n",
    "# filter수가 변하지 않게 resinet layer를 쌓는 경우는 구현했으며,\n",
    "# 논문처럼 filter수를 변하게 하면서 구현하고 싶어 코드를 참고했습니다.\n",
    "\n",
    "def residual_block(X, filters, strd):\n",
    "    ## 논문에서 filter수를 2배 늘릴 때마다 map size를 1/2배 하는것을 구현하고 싶었습니다.\n",
    "    ## 여기부터\n",
    "    if strd: # padding 해줌으로써 차원을 맞춰줌\n",
    "        stride = 2\n",
    "        pool1 = tf.layers.max_pooling2d(X, strides=2, pool_size=[1,1])\n",
    "        pad1 = tf.pad(pool1, [[0,0], [0,0], [0,0], [int(filters/4),int(filters/4)]])\n",
    "        shortcut = pad1\n",
    "    else:\n",
    "        stride = 1 # 차원이 변하지 않기 때문에 그대로 shortcut을 가져옴\n",
    "        shortcut = X\n",
    "        \n",
    "    ## 여기까지를 웹사이트를 참고.\n",
    "    \n",
    "    outs = tf.layers.conv2d(X, filters, 3, padding='same',strides=stride) \n",
    "    outs = tf.layers.batch_normalization(outs)\n",
    "    outs = tf.nn.relu(outs)\n",
    "\n",
    "    outs = tf.layers.conv2d(outs, filters, 3, padding='same',strides=1)\n",
    "    outs = tf.layers.batch_normalization(outs)        \n",
    "\n",
    "   \n",
    "    outs = tf.nn.relu(shortcut+ outs)\n",
    "    \n",
    "    return outs\n"
   ]
  },
  {
   "cell_type": "code",
   "execution_count": 9,
   "metadata": {},
   "outputs": [],
   "source": [
    "# Resnet layers--\n",
    "X = tf.placeholder(tf.float32, shape=[None, 32, 32, 3])\n",
    "by = tf.placeholder(tf.int32)\n",
    "\n",
    "\n",
    "first = tf.layers.conv2d(X, 64, 3, padding=\"SAME\") # (None, 32, 32, 64)\n",
    "first = tf.layers.batch_normalization(first)\n",
    "first = tf.nn.relu(first)\n",
    "# 논문에서는 pooling하여 사이즈를 1/2배 하지만 본 데이터는 32*32짜리 이미지 데이터라 pooling은 너무 많은 데이터 손실이 생길 것이라\n",
    "# 판단하여 하지 않았습니다. ( 논문과 다른 점 )\n",
    "\n",
    "rb1 = residual_block(first, 64, False) # (None, 32, 32, 64)\n",
    "rb2 = residual_block(rb1, 64, False) # (None, 32, 32, 64)\n",
    "rb3 = residual_block(rb2, 64, False) # (None, 32, 32, 64)\n",
    "\n",
    "rb4 = residual_block(rb3, 128, True) # (None, 16, 16, 128)\n",
    "rb5 = residual_block(rb4, 128, False)# (None, 16, 16, 128)\n",
    "rb6 = residual_block(rb5, 128, False)# (None, 16, 16, 128)\n",
    "\n",
    "rb7 = residual_block(rb6, 256, True) # (None, 8, 8, 256)\n",
    "rb8 = residual_block(rb7, 256, False)# (None, 8, 8, 256)\n",
    "rb9 = residual_block(rb8, 256, False)# (None, 8, 8, 256)\n",
    "\n",
    "rb10 = residual_block(rb9, 512, True) # (None, 4, 4, 512)\n",
    "rb11 = residual_block(rb10, 512, False)# (None, 4, 4, 512)\n",
    "rb12 = residual_block(rb11, 512, False)# (None, 4, 4, 512)\n",
    "\n",
    "\n",
    "outs = tf.layers.average_pooling2d(rb12, 2, 2)\n",
    "outs = tf.reshape(outs, (-1, outs.shape[1]*outs.shape[2]*outs.shape[3]))\n",
    "outs = tf.layers.dense(outs, 100)"
   ]
  },
  {
   "cell_type": "code",
   "execution_count": 10,
   "metadata": {},
   "outputs": [],
   "source": [
    "one_hot = tf.one_hot(by, 100)\n",
    "    \n",
    "loss = tf.nn.softmax_cross_entropy_with_logits_v2(logits=outs, \n",
    "                                                  labels=one_hot)\n",
    "loss = tf.reduce_mean(loss)\n",
    "opt = tf.train.AdamOptimizer(learning_rate=learning_rate).minimize(loss)\n",
    "\n",
    "preds = tf.cast(tf.argmax(tf.nn.softmax(outs), axis=1), tf.int32)\n",
    "acc = tf.reduce_mean(tf.cast(tf.equal(by, preds), tf.float32))\n",
    "init = tf.global_variables_initializer()"
   ]
  },
  {
   "cell_type": "code",
   "execution_count": 14,
   "metadata": {},
   "outputs": [
    {
     "name": "stdout",
     "output_type": "stream",
     "text": [
      "Current iteration 1\n",
      "loss 4.6017 acc 0.0150\n",
      "loss 4.5049 acc 0.0250\n",
      "loss 4.2931 acc 0.0600\n",
      "loss 4.0734 acc 0.0600\n",
      "loss 4.0365 acc 0.1350\n",
      "Current iteration 2\n",
      "loss 4.0863 acc 0.0900\n",
      "loss 3.9850 acc 0.1050\n",
      "loss 3.9895 acc 0.0900\n",
      "loss 3.8765 acc 0.1400\n",
      "loss 3.5641 acc 0.1600\n",
      "Current iteration 3\n",
      "loss 3.7054 acc 0.1300\n",
      "loss 3.5392 acc 0.1750\n",
      "loss 3.4136 acc 0.1750\n",
      "loss 3.3408 acc 0.2150\n",
      "loss 3.3375 acc 0.1900\n",
      "Current iteration 4\n",
      "loss 3.1384 acc 0.2550\n",
      "loss 3.1459 acc 0.2500\n",
      "loss 3.2064 acc 0.2300\n",
      "loss 3.0076 acc 0.2650\n",
      "loss 3.0155 acc 0.2750\n",
      "Current iteration 5\n",
      "loss 2.9681 acc 0.3000\n",
      "loss 2.9609 acc 0.2400\n",
      "loss 2.8333 acc 0.2450\n",
      "loss 2.8710 acc 0.2700\n",
      "loss 3.0099 acc 0.2400\n",
      "Current iteration 6\n",
      "loss 2.5985 acc 0.3600\n",
      "loss 2.7085 acc 0.3250\n",
      "loss 2.5884 acc 0.3100\n",
      "loss 2.6165 acc 0.3100\n",
      "loss 2.6847 acc 0.2850\n",
      "Current iteration 7\n",
      "loss 2.3242 acc 0.3450\n",
      "loss 2.5296 acc 0.3550\n",
      "loss 2.4884 acc 0.3500\n",
      "loss 2.3375 acc 0.4100\n",
      "loss 2.4266 acc 0.3900\n",
      "Current iteration 8\n",
      "loss 2.1009 acc 0.4650\n",
      "loss 2.0518 acc 0.4800\n",
      "loss 2.1091 acc 0.4800\n",
      "loss 1.9974 acc 0.4850\n",
      "loss 2.4181 acc 0.3800\n",
      "Current iteration 9\n",
      "loss 1.6709 acc 0.5350\n",
      "loss 1.7336 acc 0.5000\n",
      "loss 1.9618 acc 0.5000\n",
      "loss 1.9566 acc 0.4900\n",
      "loss 1.8701 acc 0.5100\n",
      "Current iteration 10\n",
      "loss 1.3093 acc 0.6200\n",
      "loss 1.2655 acc 0.6550\n",
      "loss 1.3000 acc 0.6450\n",
      "loss 1.5128 acc 0.5900\n",
      "loss 1.3631 acc 0.6500\n",
      "Current iteration 11\n",
      "loss 1.2047 acc 0.6500\n",
      "loss 0.9685 acc 0.6950\n",
      "loss 1.1431 acc 0.6650\n",
      "loss 1.1803 acc 0.6500\n",
      "loss 1.1112 acc 0.6700\n",
      "Current iteration 12\n",
      "loss 0.5065 acc 0.8700\n",
      "loss 0.8025 acc 0.7500\n",
      "loss 0.6823 acc 0.7900\n",
      "loss 1.0710 acc 0.7150\n",
      "loss 0.8789 acc 0.7400\n",
      "Current iteration 13\n",
      "loss 0.4202 acc 0.8500\n",
      "loss 0.5661 acc 0.8200\n",
      "loss 0.5254 acc 0.8600\n",
      "loss 0.7236 acc 0.7800\n",
      "loss 0.8356 acc 0.7300\n",
      "Current iteration 14\n",
      "loss 0.5606 acc 0.8600\n",
      "loss 0.4074 acc 0.8750\n",
      "loss 0.6748 acc 0.8200\n",
      "loss 0.6551 acc 0.8250\n",
      "loss 0.6278 acc 0.7850\n",
      "Current iteration 15\n",
      "loss 0.3342 acc 0.9050\n",
      "loss 0.4040 acc 0.8800\n",
      "loss 0.4661 acc 0.8350\n",
      "loss 0.4899 acc 0.8550\n",
      "loss 0.5119 acc 0.8500\n",
      "Current iteration 16\n",
      "loss 0.3898 acc 0.8950\n",
      "loss 0.2960 acc 0.8900\n",
      "loss 0.4598 acc 0.8250\n",
      "loss 0.5693 acc 0.8050\n",
      "loss 0.6325 acc 0.7900\n",
      "Current iteration 17\n",
      "loss 0.2902 acc 0.9400\n",
      "loss 0.3695 acc 0.8950\n",
      "loss 0.3472 acc 0.9000\n",
      "loss 0.2494 acc 0.9300\n",
      "loss 0.4896 acc 0.8550\n",
      "Current iteration 18\n",
      "loss 0.2005 acc 0.9450\n",
      "loss 0.2611 acc 0.9200\n",
      "loss 0.2549 acc 0.9150\n",
      "loss 0.3302 acc 0.8800\n",
      "loss 0.3055 acc 0.9100\n",
      "Current iteration 19\n",
      "loss 0.1882 acc 0.9450\n",
      "loss 0.2828 acc 0.9000\n",
      "loss 0.2909 acc 0.8950\n",
      "loss 0.2850 acc 0.9350\n",
      "loss 0.3950 acc 0.8550\n",
      "Current iteration 20\n",
      "loss 0.2228 acc 0.9050\n",
      "loss 0.3359 acc 0.9050\n",
      "loss 0.3519 acc 0.8750\n",
      "loss 0.2276 acc 0.9250\n",
      "loss 0.4078 acc 0.8800\n",
      "TEST: loss 5.4899 acc 0.2913\n"
     ]
    }
   ],
   "source": [
    "# index를 random하게 가져오기 위해 batch index를 suffle # ref.Hanson-ml book\n",
    "def shuffle_batch(X, y, batch_size):\n",
    "    rnd_idx = np.random.permutation(len(X))\n",
    "    n_batches = len(X) // batch_size\n",
    "    for batch_idx in np.array_split(rnd_idx, n_batches):\n",
    "        X_batch, y_batch = X[batch_idx], y[batch_idx]\n",
    "        yield X_batch, y_batch\n",
    "        \n",
    "        \n",
    "with tf.Session() as sess:\n",
    "    sess.run(init)\n",
    "#     writer = tf.summary.FileWriter('./logs/a')\n",
    "#     writer.add_graph(sess.graph)\n",
    "#     writer.close()\n",
    "    for ind_epoch in range(0, num_epochs):\n",
    "        print('Current iteration {}'.format(ind_epoch + 1))\n",
    "        batch_cnt = 0\n",
    "        for batch_X, batch_by in shuffle_batch(train_data, train_label, batch_size):\n",
    "            batch_cnt += 1\n",
    "            _, cur_loss, cur_acc = sess.run(\n",
    "                [opt, loss, acc],\n",
    "                feed_dict={X: batch_X, by: batch_by})\n",
    "            if batch_cnt % num_display == 0:\n",
    "                print('loss {0:.4f} acc {1:.4f}'.format(cur_loss, cur_acc))\n",
    "    cur_acc_all = 0.0\n",
    "    cur_loss_all = 0.0\n",
    "    for ind_ in range(0, 10):\n",
    "        cur_loss, cur_acc = sess.run(\n",
    "                    [loss, acc],\n",
    "                    feed_dict={X: test_data[ind_*1000:(ind_+1)*1000], \n",
    "                               by: test_label[ind_*1000:(ind_+1)*1000]})\n",
    "        cur_loss_all += cur_loss\n",
    "        cur_acc_all += cur_acc\n",
    "    print('TEST: loss {0:.4f} acc {1:.4f}'.format(cur_loss_all / 10.0, \n",
    "                                                  cur_acc_all / 10.0))"
   ]
  },
  {
   "cell_type": "code",
   "execution_count": null,
   "metadata": {},
   "outputs": [],
   "source": []
  }
 ],
 "metadata": {
  "kernelspec": {
   "display_name": "Python 3",
   "language": "python",
   "name": "python3"
  },
  "language_info": {
   "codemirror_mode": {
    "name": "ipython",
    "version": 3
   },
   "file_extension": ".py",
   "mimetype": "text/x-python",
   "name": "python",
   "nbconvert_exporter": "python",
   "pygments_lexer": "ipython3",
   "version": "3.6.8"
  }
 },
 "nbformat": 4,
 "nbformat_minor": 2
}
